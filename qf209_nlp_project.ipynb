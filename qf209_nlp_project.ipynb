{
  "cells": [
    {
      "cell_type": "code",
      "execution_count": 2,
      "metadata": {
        "colab": {
          "base_uri": "https://localhost:8080/",
          "height": 206
        },
        "id": "_mdkZqU2Zhnq",
        "outputId": "4ce0b414-8d9d-4f4d-8fd2-932158169f7f"
      },
      "outputs": [],
      "source": [
        "import pandas as pd\n",
        "import numpy as np\n",
        "import datetime as dt"
      ]
    },
    {
      "cell_type": "code",
      "execution_count": 7,
      "metadata": {},
      "outputs": [
        {
          "data": {
            "text/html": [
              "<div>\n",
              "<style scoped>\n",
              "    .dataframe tbody tr th:only-of-type {\n",
              "        vertical-align: middle;\n",
              "    }\n",
              "\n",
              "    .dataframe tbody tr th {\n",
              "        vertical-align: top;\n",
              "    }\n",
              "\n",
              "    .dataframe thead th {\n",
              "        text-align: right;\n",
              "    }\n",
              "</style>\n",
              "<table border=\"1\" class=\"dataframe\">\n",
              "  <thead>\n",
              "    <tr style=\"text-align: right;\">\n",
              "      <th></th>\n",
              "      <th>Unnamed: 0</th>\n",
              "      <th>title</th>\n",
              "      <th>date</th>\n",
              "      <th>stock</th>\n",
              "    </tr>\n",
              "  </thead>\n",
              "  <tbody>\n",
              "    <tr>\n",
              "      <th>0</th>\n",
              "      <td>0.0</td>\n",
              "      <td>Stocks That Hit 52-Week Highs On Friday</td>\n",
              "      <td>2020-06-05 10:30:00-04:00</td>\n",
              "      <td>A</td>\n",
              "    </tr>\n",
              "    <tr>\n",
              "      <th>1</th>\n",
              "      <td>1.0</td>\n",
              "      <td>Stocks That Hit 52-Week Highs On Wednesday</td>\n",
              "      <td>2020-06-03 10:45:00-04:00</td>\n",
              "      <td>A</td>\n",
              "    </tr>\n",
              "    <tr>\n",
              "      <th>2</th>\n",
              "      <td>2.0</td>\n",
              "      <td>71 Biggest Movers From Friday</td>\n",
              "      <td>2020-05-26 04:30:00-04:00</td>\n",
              "      <td>A</td>\n",
              "    </tr>\n",
              "    <tr>\n",
              "      <th>3</th>\n",
              "      <td>3.0</td>\n",
              "      <td>46 Stocks Moving In Friday's Mid-Day Session</td>\n",
              "      <td>2020-05-22 12:45:00-04:00</td>\n",
              "      <td>A</td>\n",
              "    </tr>\n",
              "    <tr>\n",
              "      <th>4</th>\n",
              "      <td>4.0</td>\n",
              "      <td>B of A Securities Maintains Neutral on Agilent...</td>\n",
              "      <td>2020-05-22 11:38:00-04:00</td>\n",
              "      <td>A</td>\n",
              "    </tr>\n",
              "  </tbody>\n",
              "</table>\n",
              "</div>"
            ],
            "text/plain": [
              "   Unnamed: 0                                              title  \\\n",
              "0         0.0            Stocks That Hit 52-Week Highs On Friday   \n",
              "1         1.0         Stocks That Hit 52-Week Highs On Wednesday   \n",
              "2         2.0                      71 Biggest Movers From Friday   \n",
              "3         3.0       46 Stocks Moving In Friday's Mid-Day Session   \n",
              "4         4.0  B of A Securities Maintains Neutral on Agilent...   \n",
              "\n",
              "                        date stock  \n",
              "0  2020-06-05 10:30:00-04:00     A  \n",
              "1  2020-06-03 10:45:00-04:00     A  \n",
              "2  2020-05-26 04:30:00-04:00     A  \n",
              "3  2020-05-22 12:45:00-04:00     A  \n",
              "4  2020-05-22 11:38:00-04:00     A  "
            ]
          },
          "execution_count": 7,
          "metadata": {},
          "output_type": "execute_result"
        }
      ],
      "source": [
        "data_1 = pd.read_csv(\"data/daily_financial_news/analyst_ratings_processed.csv\")\n",
        "data_1.head()"
      ]
    },
    {
      "cell_type": "code",
      "execution_count": 15,
      "metadata": {},
      "outputs": [],
      "source": [
        "data_1 = data_1.iloc[:, 1:].copy()"
      ]
    },
    {
      "cell_type": "code",
      "execution_count": 16,
      "metadata": {
        "colab": {
          "base_uri": "https://localhost:8080/"
        },
        "id": "oVlMohoBlTJQ",
        "outputId": "15579c96-a538-480e-cf36-81553f02c734"
      },
      "outputs": [
        {
          "name": "stdout",
          "output_type": "stream",
          "text": [
            "<class 'pandas.core.frame.DataFrame'>\n",
            "RangeIndex: 1400469 entries, 0 to 1400468\n",
            "Data columns (total 3 columns):\n",
            " #   Column  Non-Null Count    Dtype \n",
            "---  ------  --------------    ----- \n",
            " 0   title   1400469 non-null  object\n",
            " 1   date    1399180 non-null  object\n",
            " 2   stock   1397891 non-null  object\n",
            "dtypes: object(3)\n",
            "memory usage: 32.1+ MB\n"
          ]
        }
      ],
      "source": [
        "data_1.info()"
      ]
    },
    {
      "cell_type": "code",
      "execution_count": 17,
      "metadata": {
        "colab": {
          "base_uri": "https://localhost:8080/"
        },
        "id": "TKt6rDWBlk8l",
        "outputId": "9512fd8d-8077-4237-937c-e87a35976c89"
      },
      "outputs": [
        {
          "name": "stdout",
          "output_type": "stream",
          "text": [
            "title       0\n",
            "date     1289\n",
            "stock    2578\n",
            "dtype: int64\n"
          ]
        }
      ],
      "source": [
        "print(data_1.isna().sum())"
      ]
    },
    {
      "cell_type": "code",
      "execution_count": 18,
      "metadata": {
        "colab": {
          "base_uri": "https://localhost:8080/"
        },
        "id": "S9pDiHR3nCvC",
        "outputId": "606a9af2-c319-4559-b501-5f7cdd954638"
      },
      "outputs": [
        {
          "name": "stdout",
          "output_type": "stream",
          "text": [
            "(1400469, 3)\n"
          ]
        }
      ],
      "source": [
        "print(data_1.shape)"
      ]
    },
    {
      "cell_type": "code",
      "execution_count": 22,
      "metadata": {},
      "outputs": [
        {
          "data": {
            "text/html": [
              "<div>\n",
              "<style scoped>\n",
              "    .dataframe tbody tr th:only-of-type {\n",
              "        vertical-align: middle;\n",
              "    }\n",
              "\n",
              "    .dataframe tbody tr th {\n",
              "        vertical-align: top;\n",
              "    }\n",
              "\n",
              "    .dataframe thead th {\n",
              "        text-align: right;\n",
              "    }\n",
              "</style>\n",
              "<table border=\"1\" class=\"dataframe\">\n",
              "  <thead>\n",
              "    <tr style=\"text-align: right;\">\n",
              "      <th></th>\n",
              "      <th>title</th>\n",
              "      <th>date</th>\n",
              "      <th>stock</th>\n",
              "    </tr>\n",
              "  </thead>\n",
              "  <tbody>\n",
              "    <tr>\n",
              "      <th>2298</th>\n",
              "      <td>Sterne Agee Provides Color on Aaron's</td>\n",
              "      <td>NaN</td>\n",
              "      <td>NaN</td>\n",
              "    </tr>\n",
              "    <tr>\n",
              "      <th>3568</th>\n",
              "      <td>Goldman Sachs Updates on Car Parts</td>\n",
              "      <td>NaN</td>\n",
              "      <td>NaN</td>\n",
              "    </tr>\n",
              "    <tr>\n",
              "      <th>10257</th>\n",
              "      <td>American Campus to Offer 15M Shares</td>\n",
              "      <td>NaN</td>\n",
              "      <td>NaN</td>\n",
              "    </tr>\n",
              "    <tr>\n",
              "      <th>10287</th>\n",
              "      <td>American Campus Communities Reports Q2 FFOM of...</td>\n",
              "      <td>NaN</td>\n",
              "      <td>NaN</td>\n",
              "    </tr>\n",
              "    <tr>\n",
              "      <th>10941</th>\n",
              "      <td>Positive Seeking Alpha Article on Aceto Corpor...</td>\n",
              "      <td>NaN</td>\n",
              "      <td>NaN</td>\n",
              "    </tr>\n",
              "    <tr>\n",
              "      <th>...</th>\n",
              "      <td>...</td>\n",
              "      <td>...</td>\n",
              "      <td>...</td>\n",
              "    </tr>\n",
              "    <tr>\n",
              "      <th>1397623</th>\n",
              "      <td>Zynga Loses Its CTO of Mobile -AllThingsD</td>\n",
              "      <td>NaN</td>\n",
              "      <td>NaN</td>\n",
              "    </tr>\n",
              "    <tr>\n",
              "      <th>1397757</th>\n",
              "      <td>Looks Like Zynga Just Bought OMGPOP For $200 M...</td>\n",
              "      <td>NaN</td>\n",
              "      <td>NaN</td>\n",
              "    </tr>\n",
              "    <tr>\n",
              "      <th>1397782</th>\n",
              "      <td>Zynga Lead Game Designer Leaving the Company -...</td>\n",
              "      <td>NaN</td>\n",
              "      <td>NaN</td>\n",
              "    </tr>\n",
              "    <tr>\n",
              "      <th>1399443</th>\n",
              "      <td>Waiting on Several IPOs This Morning:</td>\n",
              "      <td>NaN</td>\n",
              "      <td>NaN</td>\n",
              "    </tr>\n",
              "    <tr>\n",
              "      <th>1400295</th>\n",
              "      <td>Wall Street Strategies Reports On Retailers' S...</td>\n",
              "      <td>NaN</td>\n",
              "      <td>NaN</td>\n",
              "    </tr>\n",
              "  </tbody>\n",
              "</table>\n",
              "<p>1289 rows × 3 columns</p>\n",
              "</div>"
            ],
            "text/plain": [
              "                                                     title date stock\n",
              "2298                 Sterne Agee Provides Color on Aaron's  NaN   NaN\n",
              "3568                    Goldman Sachs Updates on Car Parts  NaN   NaN\n",
              "10257                  American Campus to Offer 15M Shares  NaN   NaN\n",
              "10287    American Campus Communities Reports Q2 FFOM of...  NaN   NaN\n",
              "10941    Positive Seeking Alpha Article on Aceto Corpor...  NaN   NaN\n",
              "...                                                    ...  ...   ...\n",
              "1397623          Zynga Loses Its CTO of Mobile -AllThingsD  NaN   NaN\n",
              "1397757  Looks Like Zynga Just Bought OMGPOP For $200 M...  NaN   NaN\n",
              "1397782  Zynga Lead Game Designer Leaving the Company -...  NaN   NaN\n",
              "1399443              Waiting on Several IPOs This Morning:  NaN   NaN\n",
              "1400295  Wall Street Strategies Reports On Retailers' S...  NaN   NaN\n",
              "\n",
              "[1289 rows x 3 columns]"
            ]
          },
          "execution_count": 22,
          "metadata": {},
          "output_type": "execute_result"
        }
      ],
      "source": [
        "data_1[data_1['date'].isna()]"
      ]
    },
    {
      "cell_type": "code",
      "execution_count": 23,
      "metadata": {
        "id": "nV5Xn1-2oMTG"
      },
      "outputs": [],
      "source": [
        "data_1.dropna(subset=['date'],inplace=True)\n",
        "data_1.dropna(subset=['stock'],inplace=True)"
      ]
    },
    {
      "cell_type": "code",
      "execution_count": 24,
      "metadata": {
        "colab": {
          "base_uri": "https://localhost:8080/"
        },
        "id": "ZkszMKzlpVnL",
        "outputId": "f2b99e34-dab9-4f73-805c-c1db92b21862"
      },
      "outputs": [
        {
          "name": "stdout",
          "output_type": "stream",
          "text": [
            "(1397891, 3)\n"
          ]
        }
      ],
      "source": [
        "print(data_1.shape)"
      ]
    },
    {
      "cell_type": "code",
      "execution_count": 25,
      "metadata": {
        "colab": {
          "base_uri": "https://localhost:8080/"
        },
        "id": "FG6ydygqpZx1",
        "outputId": "9fff9776-66d4-42ad-9307-309dd0fbd9f6"
      },
      "outputs": [
        {
          "name": "stdout",
          "output_type": "stream",
          "text": [
            "title    0\n",
            "date     0\n",
            "stock    0\n",
            "dtype: int64\n"
          ]
        }
      ],
      "source": [
        "print(data_1.isna().sum())"
      ]
    },
    {
      "cell_type": "code",
      "execution_count": 26,
      "metadata": {
        "colab": {
          "base_uri": "https://localhost:8080/"
        },
        "id": "lthUY-R-phFG",
        "outputId": "39c496c4-1489-4457-93e0-5e88c8054b29"
      },
      "outputs": [
        {
          "name": "stdout",
          "output_type": "stream",
          "text": [
            "<class 'pandas.core.frame.DataFrame'>\n",
            "Index: 1397891 entries, 0 to 1400468\n",
            "Data columns (total 3 columns):\n",
            " #   Column  Non-Null Count    Dtype \n",
            "---  ------  --------------    ----- \n",
            " 0   title   1397891 non-null  object\n",
            " 1   date    1397891 non-null  object\n",
            " 2   stock   1397891 non-null  object\n",
            "dtypes: object(3)\n",
            "memory usage: 42.7+ MB\n"
          ]
        }
      ],
      "source": [
        "data_1.info()"
      ]
    },
    {
      "cell_type": "code",
      "execution_count": 27,
      "metadata": {
        "id": "bysKZg9qtnrg"
      },
      "outputs": [],
      "source": [
        "data_1['title'] = data_1['title'].str.lower()"
      ]
    },
    {
      "cell_type": "code",
      "execution_count": 28,
      "metadata": {
        "colab": {
          "base_uri": "https://localhost:8080/",
          "height": 206
        },
        "id": "j0Ci37Nwt9fX",
        "outputId": "027046b6-7432-4457-8727-aebebc71e119"
      },
      "outputs": [
        {
          "data": {
            "text/html": [
              "<div>\n",
              "<style scoped>\n",
              "    .dataframe tbody tr th:only-of-type {\n",
              "        vertical-align: middle;\n",
              "    }\n",
              "\n",
              "    .dataframe tbody tr th {\n",
              "        vertical-align: top;\n",
              "    }\n",
              "\n",
              "    .dataframe thead th {\n",
              "        text-align: right;\n",
              "    }\n",
              "</style>\n",
              "<table border=\"1\" class=\"dataframe\">\n",
              "  <thead>\n",
              "    <tr style=\"text-align: right;\">\n",
              "      <th></th>\n",
              "      <th>title</th>\n",
              "      <th>date</th>\n",
              "      <th>stock</th>\n",
              "    </tr>\n",
              "  </thead>\n",
              "  <tbody>\n",
              "    <tr>\n",
              "      <th>0</th>\n",
              "      <td>stocks that hit 52-week highs on friday</td>\n",
              "      <td>2020-06-05 10:30:00-04:00</td>\n",
              "      <td>A</td>\n",
              "    </tr>\n",
              "    <tr>\n",
              "      <th>1</th>\n",
              "      <td>stocks that hit 52-week highs on wednesday</td>\n",
              "      <td>2020-06-03 10:45:00-04:00</td>\n",
              "      <td>A</td>\n",
              "    </tr>\n",
              "    <tr>\n",
              "      <th>2</th>\n",
              "      <td>71 biggest movers from friday</td>\n",
              "      <td>2020-05-26 04:30:00-04:00</td>\n",
              "      <td>A</td>\n",
              "    </tr>\n",
              "    <tr>\n",
              "      <th>3</th>\n",
              "      <td>46 stocks moving in friday's mid-day session</td>\n",
              "      <td>2020-05-22 12:45:00-04:00</td>\n",
              "      <td>A</td>\n",
              "    </tr>\n",
              "    <tr>\n",
              "      <th>4</th>\n",
              "      <td>b of a securities maintains neutral on agilent...</td>\n",
              "      <td>2020-05-22 11:38:00-04:00</td>\n",
              "      <td>A</td>\n",
              "    </tr>\n",
              "  </tbody>\n",
              "</table>\n",
              "</div>"
            ],
            "text/plain": [
              "                                               title  \\\n",
              "0            stocks that hit 52-week highs on friday   \n",
              "1         stocks that hit 52-week highs on wednesday   \n",
              "2                      71 biggest movers from friday   \n",
              "3       46 stocks moving in friday's mid-day session   \n",
              "4  b of a securities maintains neutral on agilent...   \n",
              "\n",
              "                        date stock  \n",
              "0  2020-06-05 10:30:00-04:00     A  \n",
              "1  2020-06-03 10:45:00-04:00     A  \n",
              "2  2020-05-26 04:30:00-04:00     A  \n",
              "3  2020-05-22 12:45:00-04:00     A  \n",
              "4  2020-05-22 11:38:00-04:00     A  "
            ]
          },
          "execution_count": 28,
          "metadata": {},
          "output_type": "execute_result"
        }
      ],
      "source": [
        "data_1.head()"
      ]
    },
    {
      "cell_type": "code",
      "execution_count": 29,
      "metadata": {
        "id": "9jUv6dT5vpIp"
      },
      "outputs": [],
      "source": [
        "import string\n",
        "\n",
        "def remove_punctuation(text):\n",
        "    return ''.join([char for char in text if char not in string.punctuation and not char.isdigit()])\n",
        "\n",
        "data_1['title'] = data_1['title'].apply(remove_punctuation)"
      ]
    },
    {
      "cell_type": "code",
      "execution_count": 30,
      "metadata": {
        "colab": {
          "base_uri": "https://localhost:8080/",
          "height": 206
        },
        "id": "hHyB2atzvvgq",
        "outputId": "9c27a854-4218-4cd1-9f3f-c40293e8d38a"
      },
      "outputs": [
        {
          "data": {
            "text/html": [
              "<div>\n",
              "<style scoped>\n",
              "    .dataframe tbody tr th:only-of-type {\n",
              "        vertical-align: middle;\n",
              "    }\n",
              "\n",
              "    .dataframe tbody tr th {\n",
              "        vertical-align: top;\n",
              "    }\n",
              "\n",
              "    .dataframe thead th {\n",
              "        text-align: right;\n",
              "    }\n",
              "</style>\n",
              "<table border=\"1\" class=\"dataframe\">\n",
              "  <thead>\n",
              "    <tr style=\"text-align: right;\">\n",
              "      <th></th>\n",
              "      <th>title</th>\n",
              "      <th>date</th>\n",
              "      <th>stock</th>\n",
              "    </tr>\n",
              "  </thead>\n",
              "  <tbody>\n",
              "    <tr>\n",
              "      <th>0</th>\n",
              "      <td>stocks that hit week highs on friday</td>\n",
              "      <td>2020-06-05 10:30:00-04:00</td>\n",
              "      <td>A</td>\n",
              "    </tr>\n",
              "    <tr>\n",
              "      <th>1</th>\n",
              "      <td>stocks that hit week highs on wednesday</td>\n",
              "      <td>2020-06-03 10:45:00-04:00</td>\n",
              "      <td>A</td>\n",
              "    </tr>\n",
              "    <tr>\n",
              "      <th>2</th>\n",
              "      <td>biggest movers from friday</td>\n",
              "      <td>2020-05-26 04:30:00-04:00</td>\n",
              "      <td>A</td>\n",
              "    </tr>\n",
              "    <tr>\n",
              "      <th>3</th>\n",
              "      <td>stocks moving in fridays midday session</td>\n",
              "      <td>2020-05-22 12:45:00-04:00</td>\n",
              "      <td>A</td>\n",
              "    </tr>\n",
              "    <tr>\n",
              "      <th>4</th>\n",
              "      <td>b of a securities maintains neutral on agilent...</td>\n",
              "      <td>2020-05-22 11:38:00-04:00</td>\n",
              "      <td>A</td>\n",
              "    </tr>\n",
              "  </tbody>\n",
              "</table>\n",
              "</div>"
            ],
            "text/plain": [
              "                                               title  \\\n",
              "0               stocks that hit week highs on friday   \n",
              "1            stocks that hit week highs on wednesday   \n",
              "2                         biggest movers from friday   \n",
              "3            stocks moving in fridays midday session   \n",
              "4  b of a securities maintains neutral on agilent...   \n",
              "\n",
              "                        date stock  \n",
              "0  2020-06-05 10:30:00-04:00     A  \n",
              "1  2020-06-03 10:45:00-04:00     A  \n",
              "2  2020-05-26 04:30:00-04:00     A  \n",
              "3  2020-05-22 12:45:00-04:00     A  \n",
              "4  2020-05-22 11:38:00-04:00     A  "
            ]
          },
          "execution_count": 30,
          "metadata": {},
          "output_type": "execute_result"
        }
      ],
      "source": [
        "data_1.head()"
      ]
    },
    {
      "cell_type": "code",
      "execution_count": 31,
      "metadata": {
        "colab": {
          "base_uri": "https://localhost:8080/",
          "height": 206
        },
        "id": "GdlIDQsTwJxt",
        "outputId": "3c5dfcd6-b1f5-4462-92e0-24d99fcaf567"
      },
      "outputs": [
        {
          "data": {
            "text/html": [
              "<div>\n",
              "<style scoped>\n",
              "    .dataframe tbody tr th:only-of-type {\n",
              "        vertical-align: middle;\n",
              "    }\n",
              "\n",
              "    .dataframe tbody tr th {\n",
              "        vertical-align: top;\n",
              "    }\n",
              "\n",
              "    .dataframe thead th {\n",
              "        text-align: right;\n",
              "    }\n",
              "</style>\n",
              "<table border=\"1\" class=\"dataframe\">\n",
              "  <thead>\n",
              "    <tr style=\"text-align: right;\">\n",
              "      <th></th>\n",
              "      <th>title</th>\n",
              "      <th>date</th>\n",
              "      <th>stock</th>\n",
              "      <th>tokens</th>\n",
              "    </tr>\n",
              "  </thead>\n",
              "  <tbody>\n",
              "    <tr>\n",
              "      <th>0</th>\n",
              "      <td>stocks that hit week highs on friday</td>\n",
              "      <td>2020-06-05 10:30:00-04:00</td>\n",
              "      <td>A</td>\n",
              "      <td>[stocks, that, hit, week, highs, on, friday]</td>\n",
              "    </tr>\n",
              "    <tr>\n",
              "      <th>1</th>\n",
              "      <td>stocks that hit week highs on wednesday</td>\n",
              "      <td>2020-06-03 10:45:00-04:00</td>\n",
              "      <td>A</td>\n",
              "      <td>[stocks, that, hit, week, highs, on, wednesday]</td>\n",
              "    </tr>\n",
              "    <tr>\n",
              "      <th>2</th>\n",
              "      <td>biggest movers from friday</td>\n",
              "      <td>2020-05-26 04:30:00-04:00</td>\n",
              "      <td>A</td>\n",
              "      <td>[biggest, movers, from, friday]</td>\n",
              "    </tr>\n",
              "    <tr>\n",
              "      <th>3</th>\n",
              "      <td>stocks moving in fridays midday session</td>\n",
              "      <td>2020-05-22 12:45:00-04:00</td>\n",
              "      <td>A</td>\n",
              "      <td>[stocks, moving, in, fridays, midday, session]</td>\n",
              "    </tr>\n",
              "    <tr>\n",
              "      <th>4</th>\n",
              "      <td>b of a securities maintains neutral on agilent...</td>\n",
              "      <td>2020-05-22 11:38:00-04:00</td>\n",
              "      <td>A</td>\n",
              "      <td>[b, of, a, securities, maintains, neutral, on,...</td>\n",
              "    </tr>\n",
              "  </tbody>\n",
              "</table>\n",
              "</div>"
            ],
            "text/plain": [
              "                                               title  \\\n",
              "0               stocks that hit week highs on friday   \n",
              "1            stocks that hit week highs on wednesday   \n",
              "2                         biggest movers from friday   \n",
              "3            stocks moving in fridays midday session   \n",
              "4  b of a securities maintains neutral on agilent...   \n",
              "\n",
              "                        date stock  \\\n",
              "0  2020-06-05 10:30:00-04:00     A   \n",
              "1  2020-06-03 10:45:00-04:00     A   \n",
              "2  2020-05-26 04:30:00-04:00     A   \n",
              "3  2020-05-22 12:45:00-04:00     A   \n",
              "4  2020-05-22 11:38:00-04:00     A   \n",
              "\n",
              "                                              tokens  \n",
              "0       [stocks, that, hit, week, highs, on, friday]  \n",
              "1    [stocks, that, hit, week, highs, on, wednesday]  \n",
              "2                    [biggest, movers, from, friday]  \n",
              "3     [stocks, moving, in, fridays, midday, session]  \n",
              "4  [b, of, a, securities, maintains, neutral, on,...  "
            ]
          },
          "execution_count": 31,
          "metadata": {},
          "output_type": "execute_result"
        }
      ],
      "source": [
        "data_1['tokens'] = data_1['title'].apply(lambda x: x.split())\n",
        "data_1.head()"
      ]
    },
    {
      "cell_type": "code",
      "execution_count": 32,
      "metadata": {
        "colab": {
          "base_uri": "https://localhost:8080/"
        },
        "id": "nUEjDSAwwSjK",
        "outputId": "4b5df763-3a4c-42db-ad0a-ff33b2c5c7aa"
      },
      "outputs": [
        {
          "name": "stderr",
          "output_type": "stream",
          "text": [
            "[nltk_data] Downloading package stopwords to\n",
            "[nltk_data]     /Users/weijie/nltk_data...\n",
            "[nltk_data]   Package stopwords is already up-to-date!\n"
          ]
        }
      ],
      "source": [
        "from nltk.corpus import stopwords\n",
        "import nltk\n",
        "nltk.download('stopwords')\n",
        "\n",
        "stop = stopwords.words('english')\n",
        "\n",
        "data_1['tokens'] = data_1['tokens'].apply(lambda x: [word for word in x if word not in stop])"
      ]
    },
    {
      "cell_type": "code",
      "execution_count": 34,
      "metadata": {
        "colab": {
          "base_uri": "https://localhost:8080/",
          "height": 206
        },
        "id": "mkPxf-CgwozT",
        "outputId": "2b6e2cf8-d361-48eb-ae5b-70632f6547dd"
      },
      "outputs": [
        {
          "data": {
            "text/html": [
              "<div>\n",
              "<style scoped>\n",
              "    .dataframe tbody tr th:only-of-type {\n",
              "        vertical-align: middle;\n",
              "    }\n",
              "\n",
              "    .dataframe tbody tr th {\n",
              "        vertical-align: top;\n",
              "    }\n",
              "\n",
              "    .dataframe thead th {\n",
              "        text-align: right;\n",
              "    }\n",
              "</style>\n",
              "<table border=\"1\" class=\"dataframe\">\n",
              "  <thead>\n",
              "    <tr style=\"text-align: right;\">\n",
              "      <th></th>\n",
              "      <th>title</th>\n",
              "      <th>date</th>\n",
              "      <th>stock</th>\n",
              "      <th>tokens</th>\n",
              "    </tr>\n",
              "  </thead>\n",
              "  <tbody>\n",
              "    <tr>\n",
              "      <th>0</th>\n",
              "      <td>stocks that hit week highs on friday</td>\n",
              "      <td>2020-06-05 10:30:00-04:00</td>\n",
              "      <td>A</td>\n",
              "      <td>[stocks, hit, week, highs, friday]</td>\n",
              "    </tr>\n",
              "    <tr>\n",
              "      <th>1</th>\n",
              "      <td>stocks that hit week highs on wednesday</td>\n",
              "      <td>2020-06-03 10:45:00-04:00</td>\n",
              "      <td>A</td>\n",
              "      <td>[stocks, hit, week, highs, wednesday]</td>\n",
              "    </tr>\n",
              "    <tr>\n",
              "      <th>2</th>\n",
              "      <td>biggest movers from friday</td>\n",
              "      <td>2020-05-26 04:30:00-04:00</td>\n",
              "      <td>A</td>\n",
              "      <td>[biggest, movers, friday]</td>\n",
              "    </tr>\n",
              "    <tr>\n",
              "      <th>3</th>\n",
              "      <td>stocks moving in fridays midday session</td>\n",
              "      <td>2020-05-22 12:45:00-04:00</td>\n",
              "      <td>A</td>\n",
              "      <td>[stocks, moving, fridays, midday, session]</td>\n",
              "    </tr>\n",
              "    <tr>\n",
              "      <th>4</th>\n",
              "      <td>b of a securities maintains neutral on agilent...</td>\n",
              "      <td>2020-05-22 11:38:00-04:00</td>\n",
              "      <td>A</td>\n",
              "      <td>[b, securities, maintains, neutral, agilent, t...</td>\n",
              "    </tr>\n",
              "  </tbody>\n",
              "</table>\n",
              "</div>"
            ],
            "text/plain": [
              "                                               title  \\\n",
              "0               stocks that hit week highs on friday   \n",
              "1            stocks that hit week highs on wednesday   \n",
              "2                         biggest movers from friday   \n",
              "3            stocks moving in fridays midday session   \n",
              "4  b of a securities maintains neutral on agilent...   \n",
              "\n",
              "                        date stock  \\\n",
              "0  2020-06-05 10:30:00-04:00     A   \n",
              "1  2020-06-03 10:45:00-04:00     A   \n",
              "2  2020-05-26 04:30:00-04:00     A   \n",
              "3  2020-05-22 12:45:00-04:00     A   \n",
              "4  2020-05-22 11:38:00-04:00     A   \n",
              "\n",
              "                                              tokens  \n",
              "0                 [stocks, hit, week, highs, friday]  \n",
              "1              [stocks, hit, week, highs, wednesday]  \n",
              "2                          [biggest, movers, friday]  \n",
              "3         [stocks, moving, fridays, midday, session]  \n",
              "4  [b, securities, maintains, neutral, agilent, t...  "
            ]
          },
          "execution_count": 34,
          "metadata": {},
          "output_type": "execute_result"
        }
      ],
      "source": [
        "data_1.head()"
      ]
    },
    {
      "cell_type": "code",
      "execution_count": 35,
      "metadata": {
        "colab": {
          "base_uri": "https://localhost:8080/"
        },
        "id": "F7fTt-K3xJvz",
        "outputId": "5c7566e1-e106-4449-ea98-8f15cb9a1c93"
      },
      "outputs": [
        {
          "name": "stderr",
          "output_type": "stream",
          "text": [
            "[nltk_data] Downloading package wordnet to /Users/weijie/nltk_data...\n",
            "[nltk_data]   Package wordnet is already up-to-date!\n"
          ]
        }
      ],
      "source": [
        "from nltk.stem import WordNetLemmatizer\n",
        "import nltk\n",
        "nltk.download('wordnet')\n",
        "\n",
        "lemmatizer = WordNetLemmatizer()\n",
        "\n",
        "data_1['tokens'] = data_1['tokens'].apply(lambda x: [lemmatizer.lemmatize(word) for word in x])\n"
      ]
    },
    {
      "cell_type": "code",
      "execution_count": 36,
      "metadata": {
        "colab": {
          "base_uri": "https://localhost:8080/",
          "height": 206
        },
        "id": "15KCoy4qxkxx",
        "outputId": "dc3de5f1-a6b2-4628-ac4d-a94ac0f98b39"
      },
      "outputs": [
        {
          "data": {
            "text/html": [
              "<div>\n",
              "<style scoped>\n",
              "    .dataframe tbody tr th:only-of-type {\n",
              "        vertical-align: middle;\n",
              "    }\n",
              "\n",
              "    .dataframe tbody tr th {\n",
              "        vertical-align: top;\n",
              "    }\n",
              "\n",
              "    .dataframe thead th {\n",
              "        text-align: right;\n",
              "    }\n",
              "</style>\n",
              "<table border=\"1\" class=\"dataframe\">\n",
              "  <thead>\n",
              "    <tr style=\"text-align: right;\">\n",
              "      <th></th>\n",
              "      <th>title</th>\n",
              "      <th>date</th>\n",
              "      <th>stock</th>\n",
              "      <th>tokens</th>\n",
              "    </tr>\n",
              "  </thead>\n",
              "  <tbody>\n",
              "    <tr>\n",
              "      <th>0</th>\n",
              "      <td>stocks that hit week highs on friday</td>\n",
              "      <td>2020-06-05 10:30:00-04:00</td>\n",
              "      <td>A</td>\n",
              "      <td>[stock, hit, week, high, friday]</td>\n",
              "    </tr>\n",
              "    <tr>\n",
              "      <th>1</th>\n",
              "      <td>stocks that hit week highs on wednesday</td>\n",
              "      <td>2020-06-03 10:45:00-04:00</td>\n",
              "      <td>A</td>\n",
              "      <td>[stock, hit, week, high, wednesday]</td>\n",
              "    </tr>\n",
              "    <tr>\n",
              "      <th>2</th>\n",
              "      <td>biggest movers from friday</td>\n",
              "      <td>2020-05-26 04:30:00-04:00</td>\n",
              "      <td>A</td>\n",
              "      <td>[biggest, mover, friday]</td>\n",
              "    </tr>\n",
              "    <tr>\n",
              "      <th>3</th>\n",
              "      <td>stocks moving in fridays midday session</td>\n",
              "      <td>2020-05-22 12:45:00-04:00</td>\n",
              "      <td>A</td>\n",
              "      <td>[stock, moving, friday, midday, session]</td>\n",
              "    </tr>\n",
              "    <tr>\n",
              "      <th>4</th>\n",
              "      <td>b of a securities maintains neutral on agilent...</td>\n",
              "      <td>2020-05-22 11:38:00-04:00</td>\n",
              "      <td>A</td>\n",
              "      <td>[b, security, maintains, neutral, agilent, tec...</td>\n",
              "    </tr>\n",
              "  </tbody>\n",
              "</table>\n",
              "</div>"
            ],
            "text/plain": [
              "                                               title  \\\n",
              "0               stocks that hit week highs on friday   \n",
              "1            stocks that hit week highs on wednesday   \n",
              "2                         biggest movers from friday   \n",
              "3            stocks moving in fridays midday session   \n",
              "4  b of a securities maintains neutral on agilent...   \n",
              "\n",
              "                        date stock  \\\n",
              "0  2020-06-05 10:30:00-04:00     A   \n",
              "1  2020-06-03 10:45:00-04:00     A   \n",
              "2  2020-05-26 04:30:00-04:00     A   \n",
              "3  2020-05-22 12:45:00-04:00     A   \n",
              "4  2020-05-22 11:38:00-04:00     A   \n",
              "\n",
              "                                              tokens  \n",
              "0                   [stock, hit, week, high, friday]  \n",
              "1                [stock, hit, week, high, wednesday]  \n",
              "2                           [biggest, mover, friday]  \n",
              "3           [stock, moving, friday, midday, session]  \n",
              "4  [b, security, maintains, neutral, agilent, tec...  "
            ]
          },
          "execution_count": 36,
          "metadata": {},
          "output_type": "execute_result"
        }
      ],
      "source": [
        "data_1.head()"
      ]
    },
    {
      "cell_type": "code",
      "execution_count": 37,
      "metadata": {
        "colab": {
          "base_uri": "https://localhost:8080/",
          "height": 206
        },
        "id": "XUau0f0GxULI",
        "outputId": "2bc02e85-0e41-43ce-bc32-64d619832a29"
      },
      "outputs": [
        {
          "data": {
            "text/html": [
              "<div>\n",
              "<style scoped>\n",
              "    .dataframe tbody tr th:only-of-type {\n",
              "        vertical-align: middle;\n",
              "    }\n",
              "\n",
              "    .dataframe tbody tr th {\n",
              "        vertical-align: top;\n",
              "    }\n",
              "\n",
              "    .dataframe thead th {\n",
              "        text-align: right;\n",
              "    }\n",
              "</style>\n",
              "<table border=\"1\" class=\"dataframe\">\n",
              "  <thead>\n",
              "    <tr style=\"text-align: right;\">\n",
              "      <th></th>\n",
              "      <th>title</th>\n",
              "      <th>date</th>\n",
              "      <th>stock</th>\n",
              "      <th>tokens</th>\n",
              "      <th>preprocessed_text</th>\n",
              "    </tr>\n",
              "  </thead>\n",
              "  <tbody>\n",
              "    <tr>\n",
              "      <th>0</th>\n",
              "      <td>stocks that hit week highs on friday</td>\n",
              "      <td>2020-06-05 10:30:00-04:00</td>\n",
              "      <td>A</td>\n",
              "      <td>[stock, hit, week, high, friday]</td>\n",
              "      <td>stock hit week high friday</td>\n",
              "    </tr>\n",
              "    <tr>\n",
              "      <th>1</th>\n",
              "      <td>stocks that hit week highs on wednesday</td>\n",
              "      <td>2020-06-03 10:45:00-04:00</td>\n",
              "      <td>A</td>\n",
              "      <td>[stock, hit, week, high, wednesday]</td>\n",
              "      <td>stock hit week high wednesday</td>\n",
              "    </tr>\n",
              "    <tr>\n",
              "      <th>2</th>\n",
              "      <td>biggest movers from friday</td>\n",
              "      <td>2020-05-26 04:30:00-04:00</td>\n",
              "      <td>A</td>\n",
              "      <td>[biggest, mover, friday]</td>\n",
              "      <td>biggest mover friday</td>\n",
              "    </tr>\n",
              "    <tr>\n",
              "      <th>3</th>\n",
              "      <td>stocks moving in fridays midday session</td>\n",
              "      <td>2020-05-22 12:45:00-04:00</td>\n",
              "      <td>A</td>\n",
              "      <td>[stock, moving, friday, midday, session]</td>\n",
              "      <td>stock moving friday midday session</td>\n",
              "    </tr>\n",
              "    <tr>\n",
              "      <th>4</th>\n",
              "      <td>b of a securities maintains neutral on agilent...</td>\n",
              "      <td>2020-05-22 11:38:00-04:00</td>\n",
              "      <td>A</td>\n",
              "      <td>[b, security, maintains, neutral, agilent, tec...</td>\n",
              "      <td>b security maintains neutral agilent technolog...</td>\n",
              "    </tr>\n",
              "  </tbody>\n",
              "</table>\n",
              "</div>"
            ],
            "text/plain": [
              "                                               title  \\\n",
              "0               stocks that hit week highs on friday   \n",
              "1            stocks that hit week highs on wednesday   \n",
              "2                         biggest movers from friday   \n",
              "3            stocks moving in fridays midday session   \n",
              "4  b of a securities maintains neutral on agilent...   \n",
              "\n",
              "                        date stock  \\\n",
              "0  2020-06-05 10:30:00-04:00     A   \n",
              "1  2020-06-03 10:45:00-04:00     A   \n",
              "2  2020-05-26 04:30:00-04:00     A   \n",
              "3  2020-05-22 12:45:00-04:00     A   \n",
              "4  2020-05-22 11:38:00-04:00     A   \n",
              "\n",
              "                                              tokens  \\\n",
              "0                   [stock, hit, week, high, friday]   \n",
              "1                [stock, hit, week, high, wednesday]   \n",
              "2                           [biggest, mover, friday]   \n",
              "3           [stock, moving, friday, midday, session]   \n",
              "4  [b, security, maintains, neutral, agilent, tec...   \n",
              "\n",
              "                                   preprocessed_text  \n",
              "0                         stock hit week high friday  \n",
              "1                      stock hit week high wednesday  \n",
              "2                               biggest mover friday  \n",
              "3                 stock moving friday midday session  \n",
              "4  b security maintains neutral agilent technolog...  "
            ]
          },
          "execution_count": 37,
          "metadata": {},
          "output_type": "execute_result"
        }
      ],
      "source": [
        "data_1['preprocessed_text'] = data_1['tokens'].apply(' '.join)\n",
        "data_1.head()"
      ]
    },
    {
      "cell_type": "code",
      "execution_count": 38,
      "metadata": {
        "colab": {
          "base_uri": "https://localhost:8080/"
        },
        "id": "YDMEu5K2x4L6",
        "outputId": "20fc393c-bef0-41bf-ce79-d63044de3c74"
      },
      "outputs": [
        {
          "name": "stderr",
          "output_type": "stream",
          "text": [
            "[nltk_data] Downloading package vader_lexicon to\n",
            "[nltk_data]     /Users/weijie/nltk_data...\n",
            "[nltk_data]   Package vader_lexicon is already up-to-date!\n"
          ]
        }
      ],
      "source": [
        "import nltk\n",
        "from nltk.sentiment.vader import SentimentIntensityAnalyzer\n",
        "nltk.download('vader_lexicon')\n",
        "sia = SentimentIntensityAnalyzer()\n",
        "# NLTK Sentiment Intensity Analyzer uses a 'Bag of Words' approach\n",
        "# it removes stop words and scores each word individually before compounding"
      ]
    },
    {
      "cell_type": "code",
      "execution_count": 39,
      "metadata": {},
      "outputs": [
        {
          "data": {
            "text/html": [
              "<div>\n",
              "<style scoped>\n",
              "    .dataframe tbody tr th:only-of-type {\n",
              "        vertical-align: middle;\n",
              "    }\n",
              "\n",
              "    .dataframe tbody tr th {\n",
              "        vertical-align: top;\n",
              "    }\n",
              "\n",
              "    .dataframe thead th {\n",
              "        text-align: right;\n",
              "    }\n",
              "</style>\n",
              "<table border=\"1\" class=\"dataframe\">\n",
              "  <thead>\n",
              "    <tr style=\"text-align: right;\">\n",
              "      <th></th>\n",
              "      <th>title</th>\n",
              "      <th>date</th>\n",
              "      <th>stock</th>\n",
              "      <th>tokens</th>\n",
              "      <th>preprocessed_text</th>\n",
              "      <th>sentiment_score</th>\n",
              "    </tr>\n",
              "  </thead>\n",
              "  <tbody>\n",
              "    <tr>\n",
              "      <th>0</th>\n",
              "      <td>stocks that hit week highs on friday</td>\n",
              "      <td>2020-06-05 10:30:00-04:00</td>\n",
              "      <td>A</td>\n",
              "      <td>[stock, hit, week, high, friday]</td>\n",
              "      <td>stock hit week high friday</td>\n",
              "      <td>0.0000</td>\n",
              "    </tr>\n",
              "    <tr>\n",
              "      <th>1</th>\n",
              "      <td>stocks that hit week highs on wednesday</td>\n",
              "      <td>2020-06-03 10:45:00-04:00</td>\n",
              "      <td>A</td>\n",
              "      <td>[stock, hit, week, high, wednesday]</td>\n",
              "      <td>stock hit week high wednesday</td>\n",
              "      <td>0.0000</td>\n",
              "    </tr>\n",
              "    <tr>\n",
              "      <th>2</th>\n",
              "      <td>biggest movers from friday</td>\n",
              "      <td>2020-05-26 04:30:00-04:00</td>\n",
              "      <td>A</td>\n",
              "      <td>[biggest, mover, friday]</td>\n",
              "      <td>biggest mover friday</td>\n",
              "      <td>0.0000</td>\n",
              "    </tr>\n",
              "    <tr>\n",
              "      <th>3</th>\n",
              "      <td>stocks moving in fridays midday session</td>\n",
              "      <td>2020-05-22 12:45:00-04:00</td>\n",
              "      <td>A</td>\n",
              "      <td>[stock, moving, friday, midday, session]</td>\n",
              "      <td>stock moving friday midday session</td>\n",
              "      <td>0.0000</td>\n",
              "    </tr>\n",
              "    <tr>\n",
              "      <th>4</th>\n",
              "      <td>b of a securities maintains neutral on agilent...</td>\n",
              "      <td>2020-05-22 11:38:00-04:00</td>\n",
              "      <td>A</td>\n",
              "      <td>[b, security, maintains, neutral, agilent, tec...</td>\n",
              "      <td>b security maintains neutral agilent technolog...</td>\n",
              "      <td>0.3400</td>\n",
              "    </tr>\n",
              "    <tr>\n",
              "      <th>...</th>\n",
              "      <td>...</td>\n",
              "      <td>...</td>\n",
              "      <td>...</td>\n",
              "      <td>...</td>\n",
              "      <td>...</td>\n",
              "      <td>...</td>\n",
              "    </tr>\n",
              "    <tr>\n",
              "      <th>1400464</th>\n",
              "      <td>top narrow based indexes for august</td>\n",
              "      <td>2011-08-29 10:41:00-04:00</td>\n",
              "      <td>ZX</td>\n",
              "      <td>[top, narrow, based, index, august]</td>\n",
              "      <td>top narrow based index august</td>\n",
              "      <td>0.2023</td>\n",
              "    </tr>\n",
              "    <tr>\n",
              "      <th>1400465</th>\n",
              "      <td>recap wednesdays top percentage gainers and lo...</td>\n",
              "      <td>2011-06-22 16:44:00-04:00</td>\n",
              "      <td>ZX</td>\n",
              "      <td>[recap, wednesday, top, percentage, gainer, lo...</td>\n",
              "      <td>recap wednesday top percentage gainer loser</td>\n",
              "      <td>-0.3818</td>\n",
              "    </tr>\n",
              "    <tr>\n",
              "      <th>1400466</th>\n",
              "      <td>update oppenheimer color on china zenix auto i...</td>\n",
              "      <td>2011-06-21 08:26:00-04:00</td>\n",
              "      <td>ZX</td>\n",
              "      <td>[update, oppenheimer, color, china, zenix, aut...</td>\n",
              "      <td>update oppenheimer color china zenix auto init...</td>\n",
              "      <td>0.0000</td>\n",
              "    </tr>\n",
              "    <tr>\n",
              "      <th>1400467</th>\n",
              "      <td>oppenheimer initiates china zenix at outperfor...</td>\n",
              "      <td>2011-06-21 05:59:00-04:00</td>\n",
              "      <td>ZX</td>\n",
              "      <td>[oppenheimer, initiate, china, zenix, outperfo...</td>\n",
              "      <td>oppenheimer initiate china zenix outperform pt</td>\n",
              "      <td>0.0000</td>\n",
              "    </tr>\n",
              "    <tr>\n",
              "      <th>1400468</th>\n",
              "      <td>china zenix auto international opens for tradi...</td>\n",
              "      <td>2011-05-12 09:36:00-04:00</td>\n",
              "      <td>ZX</td>\n",
              "      <td>[china, zenix, auto, international, open, trad...</td>\n",
              "      <td>china zenix auto international open trading ip...</td>\n",
              "      <td>0.0000</td>\n",
              "    </tr>\n",
              "  </tbody>\n",
              "</table>\n",
              "<p>1397891 rows × 6 columns</p>\n",
              "</div>"
            ],
            "text/plain": [
              "                                                     title  \\\n",
              "0                     stocks that hit week highs on friday   \n",
              "1                  stocks that hit week highs on wednesday   \n",
              "2                               biggest movers from friday   \n",
              "3                  stocks moving in fridays midday session   \n",
              "4        b of a securities maintains neutral on agilent...   \n",
              "...                                                    ...   \n",
              "1400464               top narrow based indexes for august    \n",
              "1400465  recap wednesdays top percentage gainers and lo...   \n",
              "1400466  update oppenheimer color on china zenix auto i...   \n",
              "1400467  oppenheimer initiates china zenix at outperfor...   \n",
              "1400468  china zenix auto international opens for tradi...   \n",
              "\n",
              "                              date stock  \\\n",
              "0        2020-06-05 10:30:00-04:00     A   \n",
              "1        2020-06-03 10:45:00-04:00     A   \n",
              "2        2020-05-26 04:30:00-04:00     A   \n",
              "3        2020-05-22 12:45:00-04:00     A   \n",
              "4        2020-05-22 11:38:00-04:00     A   \n",
              "...                            ...   ...   \n",
              "1400464  2011-08-29 10:41:00-04:00    ZX   \n",
              "1400465  2011-06-22 16:44:00-04:00    ZX   \n",
              "1400466  2011-06-21 08:26:00-04:00    ZX   \n",
              "1400467  2011-06-21 05:59:00-04:00    ZX   \n",
              "1400468  2011-05-12 09:36:00-04:00    ZX   \n",
              "\n",
              "                                                    tokens  \\\n",
              "0                         [stock, hit, week, high, friday]   \n",
              "1                      [stock, hit, week, high, wednesday]   \n",
              "2                                 [biggest, mover, friday]   \n",
              "3                 [stock, moving, friday, midday, session]   \n",
              "4        [b, security, maintains, neutral, agilent, tec...   \n",
              "...                                                    ...   \n",
              "1400464                [top, narrow, based, index, august]   \n",
              "1400465  [recap, wednesday, top, percentage, gainer, lo...   \n",
              "1400466  [update, oppenheimer, color, china, zenix, aut...   \n",
              "1400467  [oppenheimer, initiate, china, zenix, outperfo...   \n",
              "1400468  [china, zenix, auto, international, open, trad...   \n",
              "\n",
              "                                         preprocessed_text  sentiment_score  \n",
              "0                               stock hit week high friday           0.0000  \n",
              "1                            stock hit week high wednesday           0.0000  \n",
              "2                                     biggest mover friday           0.0000  \n",
              "3                       stock moving friday midday session           0.0000  \n",
              "4        b security maintains neutral agilent technolog...           0.3400  \n",
              "...                                                    ...              ...  \n",
              "1400464                      top narrow based index august           0.2023  \n",
              "1400465        recap wednesday top percentage gainer loser          -0.3818  \n",
              "1400466  update oppenheimer color china zenix auto init...           0.0000  \n",
              "1400467     oppenheimer initiate china zenix outperform pt           0.0000  \n",
              "1400468  china zenix auto international open trading ip...           0.0000  \n",
              "\n",
              "[1397891 rows x 6 columns]"
            ]
          },
          "execution_count": 39,
          "metadata": {},
          "output_type": "execute_result"
        }
      ],
      "source": [
        "data_duplicate = data_1.copy()\n",
        "data_duplicate['sentiment_score'] = data_duplicate['preprocessed_text'].apply(lambda x: sia.polarity_scores(x)['compound'])\n",
        "data_duplicate"
      ]
    },
    {
      "cell_type": "code",
      "execution_count": 40,
      "metadata": {
        "colab": {
          "base_uri": "https://localhost:8080/"
        },
        "id": "X0nlV-P20K_8",
        "outputId": "2c43f90d-c726-46e3-c5d3-999274766fdf"
      },
      "outputs": [
        {
          "data": {
            "text/plain": [
              "count    1.397891e+06\n",
              "mean     7.155202e-02\n",
              "std      2.794276e-01\n",
              "min     -9.578000e-01\n",
              "25%      0.000000e+00\n",
              "50%      0.000000e+00\n",
              "75%      2.263000e-01\n",
              "max      9.744000e-01\n",
              "Name: sentiment_score, dtype: float64"
            ]
          },
          "execution_count": 40,
          "metadata": {},
          "output_type": "execute_result"
        }
      ],
      "source": [
        "data_duplicate['sentiment_score'].describe()"
      ]
    },
    {
      "cell_type": "code",
      "execution_count": 41,
      "metadata": {
        "colab": {
          "base_uri": "https://localhost:8080/"
        },
        "id": "RGBvIQCZ2Ew6",
        "outputId": "ce24972b-4612-4b4d-86f8-32e1d288a9c0"
      },
      "outputs": [
        {
          "name": "stdout",
          "output_type": "stream",
          "text": [
            "<class 'pandas.core.frame.DataFrame'>\n",
            "Index: 1397891 entries, 0 to 1400468\n",
            "Data columns (total 6 columns):\n",
            " #   Column             Non-Null Count    Dtype  \n",
            "---  ------             --------------    -----  \n",
            " 0   title              1397891 non-null  object \n",
            " 1   date               1397891 non-null  object \n",
            " 2   stock              1397891 non-null  object \n",
            " 3   tokens             1397891 non-null  object \n",
            " 4   preprocessed_text  1397891 non-null  object \n",
            " 5   sentiment_score    1397891 non-null  float64\n",
            "dtypes: float64(1), object(5)\n",
            "memory usage: 74.7+ MB\n"
          ]
        }
      ],
      "source": [
        "data_duplicate.info()"
      ]
    },
    {
      "cell_type": "code",
      "execution_count": 42,
      "metadata": {
        "colab": {
          "base_uri": "https://localhost:8080/"
        },
        "id": "CKq4rW634KkQ",
        "outputId": "664a1a27-e0e9-4ccf-b544-bd428a19d925"
      },
      "outputs": [
        {
          "name": "stdout",
          "output_type": "stream",
          "text": [
            "datetime64[ns, UTC]\n",
            "<class 'pandas.core.frame.DataFrame'>\n",
            "Index: 1397891 entries, 0 to 1400468\n",
            "Data columns (total 6 columns):\n",
            " #   Column             Non-Null Count    Dtype              \n",
            "---  ------             --------------    -----              \n",
            " 0   title              1397891 non-null  object             \n",
            " 1   date               1397891 non-null  datetime64[ns, UTC]\n",
            " 2   stock              1397891 non-null  object             \n",
            " 3   tokens             1397891 non-null  object             \n",
            " 4   preprocessed_text  1397891 non-null  object             \n",
            " 5   sentiment_score    1397891 non-null  float64            \n",
            "dtypes: datetime64[ns, UTC](1), float64(1), object(4)\n",
            "memory usage: 74.7+ MB\n"
          ]
        }
      ],
      "source": [
        "data_duplicate['date'] = pd.to_datetime(data_duplicate['date'], utc=True)\n",
        "print(data_duplicate['date'].dtype)\n",
        "data_duplicate['date'] = data_duplicate['date'].dt.tz_convert('UTC')\n",
        "data_duplicate.info()"
      ]
    },
    {
      "cell_type": "code",
      "execution_count": 43,
      "metadata": {
        "id": "Eu3BxOeL4Y52"
      },
      "outputs": [
        {
          "data": {
            "text/html": [
              "<div>\n",
              "<style scoped>\n",
              "    .dataframe tbody tr th:only-of-type {\n",
              "        vertical-align: middle;\n",
              "    }\n",
              "\n",
              "    .dataframe tbody tr th {\n",
              "        vertical-align: top;\n",
              "    }\n",
              "\n",
              "    .dataframe thead th {\n",
              "        text-align: right;\n",
              "    }\n",
              "</style>\n",
              "<table border=\"1\" class=\"dataframe\">\n",
              "  <thead>\n",
              "    <tr style=\"text-align: right;\">\n",
              "      <th></th>\n",
              "      <th>title</th>\n",
              "      <th>date</th>\n",
              "      <th>stock</th>\n",
              "      <th>tokens</th>\n",
              "      <th>preprocessed_text</th>\n",
              "      <th>sentiment_score</th>\n",
              "    </tr>\n",
              "  </thead>\n",
              "  <tbody>\n",
              "    <tr>\n",
              "      <th>0</th>\n",
              "      <td>stocks that hit week highs on friday</td>\n",
              "      <td>2020-06-05 14:30:00+00:00</td>\n",
              "      <td>A</td>\n",
              "      <td>[stock, hit, week, high, friday]</td>\n",
              "      <td>stock hit week high friday</td>\n",
              "      <td>0.0000</td>\n",
              "    </tr>\n",
              "    <tr>\n",
              "      <th>1</th>\n",
              "      <td>stocks that hit week highs on wednesday</td>\n",
              "      <td>2020-06-03 14:45:00+00:00</td>\n",
              "      <td>A</td>\n",
              "      <td>[stock, hit, week, high, wednesday]</td>\n",
              "      <td>stock hit week high wednesday</td>\n",
              "      <td>0.0000</td>\n",
              "    </tr>\n",
              "    <tr>\n",
              "      <th>2</th>\n",
              "      <td>biggest movers from friday</td>\n",
              "      <td>2020-05-26 08:30:00+00:00</td>\n",
              "      <td>A</td>\n",
              "      <td>[biggest, mover, friday]</td>\n",
              "      <td>biggest mover friday</td>\n",
              "      <td>0.0000</td>\n",
              "    </tr>\n",
              "    <tr>\n",
              "      <th>3</th>\n",
              "      <td>stocks moving in fridays midday session</td>\n",
              "      <td>2020-05-22 16:45:00+00:00</td>\n",
              "      <td>A</td>\n",
              "      <td>[stock, moving, friday, midday, session]</td>\n",
              "      <td>stock moving friday midday session</td>\n",
              "      <td>0.0000</td>\n",
              "    </tr>\n",
              "    <tr>\n",
              "      <th>4</th>\n",
              "      <td>b of a securities maintains neutral on agilent...</td>\n",
              "      <td>2020-05-22 15:38:00+00:00</td>\n",
              "      <td>A</td>\n",
              "      <td>[b, security, maintains, neutral, agilent, tec...</td>\n",
              "      <td>b security maintains neutral agilent technolog...</td>\n",
              "      <td>0.3400</td>\n",
              "    </tr>\n",
              "    <tr>\n",
              "      <th>...</th>\n",
              "      <td>...</td>\n",
              "      <td>...</td>\n",
              "      <td>...</td>\n",
              "      <td>...</td>\n",
              "      <td>...</td>\n",
              "      <td>...</td>\n",
              "    </tr>\n",
              "    <tr>\n",
              "      <th>1400464</th>\n",
              "      <td>top narrow based indexes for august</td>\n",
              "      <td>2011-08-29 14:41:00+00:00</td>\n",
              "      <td>ZX</td>\n",
              "      <td>[top, narrow, based, index, august]</td>\n",
              "      <td>top narrow based index august</td>\n",
              "      <td>0.2023</td>\n",
              "    </tr>\n",
              "    <tr>\n",
              "      <th>1400465</th>\n",
              "      <td>recap wednesdays top percentage gainers and lo...</td>\n",
              "      <td>2011-06-22 20:44:00+00:00</td>\n",
              "      <td>ZX</td>\n",
              "      <td>[recap, wednesday, top, percentage, gainer, lo...</td>\n",
              "      <td>recap wednesday top percentage gainer loser</td>\n",
              "      <td>-0.3818</td>\n",
              "    </tr>\n",
              "    <tr>\n",
              "      <th>1400466</th>\n",
              "      <td>update oppenheimer color on china zenix auto i...</td>\n",
              "      <td>2011-06-21 12:26:00+00:00</td>\n",
              "      <td>ZX</td>\n",
              "      <td>[update, oppenheimer, color, china, zenix, aut...</td>\n",
              "      <td>update oppenheimer color china zenix auto init...</td>\n",
              "      <td>0.0000</td>\n",
              "    </tr>\n",
              "    <tr>\n",
              "      <th>1400467</th>\n",
              "      <td>oppenheimer initiates china zenix at outperfor...</td>\n",
              "      <td>2011-06-21 09:59:00+00:00</td>\n",
              "      <td>ZX</td>\n",
              "      <td>[oppenheimer, initiate, china, zenix, outperfo...</td>\n",
              "      <td>oppenheimer initiate china zenix outperform pt</td>\n",
              "      <td>0.0000</td>\n",
              "    </tr>\n",
              "    <tr>\n",
              "      <th>1400468</th>\n",
              "      <td>china zenix auto international opens for tradi...</td>\n",
              "      <td>2011-05-12 13:36:00+00:00</td>\n",
              "      <td>ZX</td>\n",
              "      <td>[china, zenix, auto, international, open, trad...</td>\n",
              "      <td>china zenix auto international open trading ip...</td>\n",
              "      <td>0.0000</td>\n",
              "    </tr>\n",
              "  </tbody>\n",
              "</table>\n",
              "<p>1397891 rows × 6 columns</p>\n",
              "</div>"
            ],
            "text/plain": [
              "                                                     title  \\\n",
              "0                     stocks that hit week highs on friday   \n",
              "1                  stocks that hit week highs on wednesday   \n",
              "2                               biggest movers from friday   \n",
              "3                  stocks moving in fridays midday session   \n",
              "4        b of a securities maintains neutral on agilent...   \n",
              "...                                                    ...   \n",
              "1400464               top narrow based indexes for august    \n",
              "1400465  recap wednesdays top percentage gainers and lo...   \n",
              "1400466  update oppenheimer color on china zenix auto i...   \n",
              "1400467  oppenheimer initiates china zenix at outperfor...   \n",
              "1400468  china zenix auto international opens for tradi...   \n",
              "\n",
              "                             date stock  \\\n",
              "0       2020-06-05 14:30:00+00:00     A   \n",
              "1       2020-06-03 14:45:00+00:00     A   \n",
              "2       2020-05-26 08:30:00+00:00     A   \n",
              "3       2020-05-22 16:45:00+00:00     A   \n",
              "4       2020-05-22 15:38:00+00:00     A   \n",
              "...                           ...   ...   \n",
              "1400464 2011-08-29 14:41:00+00:00    ZX   \n",
              "1400465 2011-06-22 20:44:00+00:00    ZX   \n",
              "1400466 2011-06-21 12:26:00+00:00    ZX   \n",
              "1400467 2011-06-21 09:59:00+00:00    ZX   \n",
              "1400468 2011-05-12 13:36:00+00:00    ZX   \n",
              "\n",
              "                                                    tokens  \\\n",
              "0                         [stock, hit, week, high, friday]   \n",
              "1                      [stock, hit, week, high, wednesday]   \n",
              "2                                 [biggest, mover, friday]   \n",
              "3                 [stock, moving, friday, midday, session]   \n",
              "4        [b, security, maintains, neutral, agilent, tec...   \n",
              "...                                                    ...   \n",
              "1400464                [top, narrow, based, index, august]   \n",
              "1400465  [recap, wednesday, top, percentage, gainer, lo...   \n",
              "1400466  [update, oppenheimer, color, china, zenix, aut...   \n",
              "1400467  [oppenheimer, initiate, china, zenix, outperfo...   \n",
              "1400468  [china, zenix, auto, international, open, trad...   \n",
              "\n",
              "                                         preprocessed_text  sentiment_score  \n",
              "0                               stock hit week high friday           0.0000  \n",
              "1                            stock hit week high wednesday           0.0000  \n",
              "2                                     biggest mover friday           0.0000  \n",
              "3                       stock moving friday midday session           0.0000  \n",
              "4        b security maintains neutral agilent technolog...           0.3400  \n",
              "...                                                    ...              ...  \n",
              "1400464                      top narrow based index august           0.2023  \n",
              "1400465        recap wednesday top percentage gainer loser          -0.3818  \n",
              "1400466  update oppenheimer color china zenix auto init...           0.0000  \n",
              "1400467     oppenheimer initiate china zenix outperform pt           0.0000  \n",
              "1400468  china zenix auto international open trading ip...           0.0000  \n",
              "\n",
              "[1397891 rows x 6 columns]"
            ]
          },
          "execution_count": 43,
          "metadata": {},
          "output_type": "execute_result"
        }
      ],
      "source": [
        "data_duplicate"
      ]
    }
  ],
  "metadata": {
    "colab": {
      "provenance": []
    },
    "kernelspec": {
      "display_name": "Python 3",
      "name": "python3"
    },
    "language_info": {
      "codemirror_mode": {
        "name": "ipython",
        "version": 3
      },
      "file_extension": ".py",
      "mimetype": "text/x-python",
      "name": "python",
      "nbconvert_exporter": "python",
      "pygments_lexer": "ipython3",
      "version": "3.8.8"
    }
  },
  "nbformat": 4,
  "nbformat_minor": 0
}
