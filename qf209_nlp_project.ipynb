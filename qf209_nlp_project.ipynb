{
  "cells": [
    {
      "cell_type": "code",
      "execution_count": null,
      "metadata": {
        "colab": {
          "base_uri": "https://localhost:8080/",
          "height": 206
        },
        "id": "_mdkZqU2Zhnq",
        "outputId": "4ce0b414-8d9d-4f4d-8fd2-932158169f7f"
      },
      "outputs": [],
      "source": [
        "import pandas as pd\n",
        "import numpy as np\n",
        "import datetime as dt\n",
        "import yfinance as yf\n",
        "import plotly.express as px"
      ]
    },
    {
      "cell_type": "markdown",
      "metadata": {},
      "source": [
        "# Data Exploration"
      ]
    },
    {
      "cell_type": "code",
      "execution_count": null,
      "metadata": {},
      "outputs": [],
      "source": [
        "data_1 = pd.read_csv(\"data/daily_financial_news/analyst_ratings_processed.csv\", index_col=0)\n",
        "data_1.head()"
      ]
    },
    {
      "cell_type": "code",
      "execution_count": null,
      "metadata": {},
      "outputs": [],
      "source": [
        "data_1['date'] = data_1['date'].str.split(' ', expand=True).iloc[:, 0]"
      ]
    },
    {
      "cell_type": "code",
      "execution_count": null,
      "metadata": {},
      "outputs": [],
      "source": [
        "data_1.head()"
      ]
    },
    {
      "cell_type": "code",
      "execution_count": null,
      "metadata": {},
      "outputs": [],
      "source": [
        "data_1['stock'].nunique()"
      ]
    },
    {
      "cell_type": "code",
      "execution_count": null,
      "metadata": {
        "colab": {
          "base_uri": "https://localhost:8080/"
        },
        "id": "oVlMohoBlTJQ",
        "outputId": "15579c96-a538-480e-cf36-81553f02c734"
      },
      "outputs": [],
      "source": [
        "data_1.info()"
      ]
    },
    {
      "cell_type": "markdown",
      "metadata": {},
      "source": [
        "## Drop Null Values"
      ]
    },
    {
      "cell_type": "code",
      "execution_count": null,
      "metadata": {
        "colab": {
          "base_uri": "https://localhost:8080/"
        },
        "id": "TKt6rDWBlk8l",
        "outputId": "9512fd8d-8077-4237-937c-e87a35976c89"
      },
      "outputs": [],
      "source": [
        "print(data_1.isna().sum())"
      ]
    },
    {
      "cell_type": "code",
      "execution_count": null,
      "metadata": {
        "colab": {
          "base_uri": "https://localhost:8080/"
        },
        "id": "S9pDiHR3nCvC",
        "outputId": "606a9af2-c319-4559-b501-5f7cdd954638"
      },
      "outputs": [],
      "source": [
        "print(data_1.shape)"
      ]
    },
    {
      "cell_type": "code",
      "execution_count": null,
      "metadata": {},
      "outputs": [],
      "source": [
        "data_1[data_1['date'].isna()]"
      ]
    },
    {
      "cell_type": "code",
      "execution_count": null,
      "metadata": {
        "id": "nV5Xn1-2oMTG"
      },
      "outputs": [],
      "source": [
        "data_1.dropna(subset=['date'],inplace=True)\n",
        "data_1.dropna(subset=['stock'],inplace=True)"
      ]
    },
    {
      "cell_type": "code",
      "execution_count": null,
      "metadata": {
        "colab": {
          "base_uri": "https://localhost:8080/"
        },
        "id": "ZkszMKzlpVnL",
        "outputId": "f2b99e34-dab9-4f73-805c-c1db92b21862"
      },
      "outputs": [],
      "source": [
        "print(data_1.shape)"
      ]
    },
    {
      "cell_type": "code",
      "execution_count": null,
      "metadata": {
        "colab": {
          "base_uri": "https://localhost:8080/"
        },
        "id": "FG6ydygqpZx1",
        "outputId": "9fff9776-66d4-42ad-9307-309dd0fbd9f6"
      },
      "outputs": [],
      "source": [
        "print(data_1.isna().sum())"
      ]
    },
    {
      "cell_type": "code",
      "execution_count": null,
      "metadata": {
        "colab": {
          "base_uri": "https://localhost:8080/"
        },
        "id": "lthUY-R-phFG",
        "outputId": "39c496c4-1489-4457-93e0-5e88c8054b29"
      },
      "outputs": [],
      "source": [
        "data_1.info()"
      ]
    },
    {
      "cell_type": "markdown",
      "metadata": {},
      "source": [
        "## Filter stocks"
      ]
    },
    {
      "cell_type": "code",
      "execution_count": null,
      "metadata": {},
      "outputs": [],
      "source": [
        "# Filter dataset down to stocks with top 100 number of headlines\n",
        "top_100_stocks_by_headlines = data_1.groupby('stock').size().reset_index(name='size').sort_values('size', ascending=False).reset_index(drop=True).iloc[:100]\n",
        "top_100_stocks_by_headlines.head()"
      ]
    },
    {
      "cell_type": "code",
      "execution_count": null,
      "metadata": {},
      "outputs": [],
      "source": [
        "data_1 = data_1[data_1['stock'].isin(top_100_stocks_by_headlines.stock)]"
      ]
    },
    {
      "cell_type": "code",
      "execution_count": null,
      "metadata": {},
      "outputs": [],
      "source": [
        "data_1.shape"
      ]
    },
    {
      "cell_type": "markdown",
      "metadata": {},
      "source": [
        "## Clean Text Data"
      ]
    },
    {
      "cell_type": "code",
      "execution_count": null,
      "metadata": {
        "id": "bysKZg9qtnrg"
      },
      "outputs": [],
      "source": [
        "data_1['title'] = data_1['title'].str.lower()"
      ]
    },
    {
      "cell_type": "code",
      "execution_count": null,
      "metadata": {
        "colab": {
          "base_uri": "https://localhost:8080/",
          "height": 206
        },
        "id": "j0Ci37Nwt9fX",
        "outputId": "027046b6-7432-4457-8727-aebebc71e119"
      },
      "outputs": [],
      "source": [
        "data_1.head()"
      ]
    },
    {
      "cell_type": "markdown",
      "metadata": {},
      "source": [
        "### Remove Punctuations"
      ]
    },
    {
      "cell_type": "code",
      "execution_count": null,
      "metadata": {
        "id": "9jUv6dT5vpIp"
      },
      "outputs": [],
      "source": [
        "import string\n",
        "\n",
        "def remove_punctuation(text):\n",
        "    return ''.join([char for char in text if char not in string.punctuation and not char.isdigit()])\n",
        "\n",
        "data_1['title'] = data_1['title'].apply(remove_punctuation)"
      ]
    },
    {
      "cell_type": "code",
      "execution_count": null,
      "metadata": {
        "colab": {
          "base_uri": "https://localhost:8080/",
          "height": 206
        },
        "id": "hHyB2atzvvgq",
        "outputId": "9c27a854-4218-4cd1-9f3f-c40293e8d38a"
      },
      "outputs": [],
      "source": [
        "data_1.head()"
      ]
    },
    {
      "cell_type": "code",
      "execution_count": null,
      "metadata": {
        "colab": {
          "base_uri": "https://localhost:8080/",
          "height": 206
        },
        "id": "GdlIDQsTwJxt",
        "outputId": "3c5dfcd6-b1f5-4462-92e0-24d99fcaf567"
      },
      "outputs": [],
      "source": [
        "data_1['tokens'] = data_1['title'].apply(lambda x: x.split())\n",
        "data_1.head()"
      ]
    },
    {
      "cell_type": "markdown",
      "metadata": {},
      "source": [
        "### Remove stop words"
      ]
    },
    {
      "cell_type": "code",
      "execution_count": null,
      "metadata": {
        "colab": {
          "base_uri": "https://localhost:8080/"
        },
        "id": "nUEjDSAwwSjK",
        "outputId": "4b5df763-3a4c-42db-ad0a-ff33b2c5c7aa"
      },
      "outputs": [],
      "source": [
        "from nltk.corpus import stopwords\n",
        "import nltk\n",
        "nltk.download('stopwords')\n",
        "\n",
        "stop = stopwords.words('english')\n",
        "\n",
        "data_1['tokens'] = data_1['tokens'].apply(lambda x: [word for word in x if word not in stop])"
      ]
    },
    {
      "cell_type": "code",
      "execution_count": null,
      "metadata": {
        "colab": {
          "base_uri": "https://localhost:8080/",
          "height": 206
        },
        "id": "mkPxf-CgwozT",
        "outputId": "2b6e2cf8-d361-48eb-ae5b-70632f6547dd"
      },
      "outputs": [],
      "source": [
        "data_1.shape"
      ]
    },
    {
      "cell_type": "markdown",
      "metadata": {},
      "source": [
        "### Lemmatize tokens"
      ]
    },
    {
      "cell_type": "code",
      "execution_count": null,
      "metadata": {
        "colab": {
          "base_uri": "https://localhost:8080/"
        },
        "id": "F7fTt-K3xJvz",
        "outputId": "5c7566e1-e106-4449-ea98-8f15cb9a1c93"
      },
      "outputs": [],
      "source": [
        "from nltk.stem import WordNetLemmatizer\n",
        "import nltk\n",
        "nltk.download('wordnet')\n",
        "\n",
        "lemmatizer = WordNetLemmatizer()\n",
        "\n",
        "data_1['tokens'] = data_1['tokens'].apply(lambda x: [lemmatizer.lemmatize(word) for word in x])\n"
      ]
    },
    {
      "cell_type": "code",
      "execution_count": null,
      "metadata": {
        "colab": {
          "base_uri": "https://localhost:8080/",
          "height": 206
        },
        "id": "15KCoy4qxkxx",
        "outputId": "dc3de5f1-a6b2-4628-ac4d-a94ac0f98b39"
      },
      "outputs": [],
      "source": [
        "data_1.head()"
      ]
    },
    {
      "cell_type": "code",
      "execution_count": null,
      "metadata": {
        "colab": {
          "base_uri": "https://localhost:8080/",
          "height": 206
        },
        "id": "XUau0f0GxULI",
        "outputId": "2bc02e85-0e41-43ce-bc32-64d619832a29"
      },
      "outputs": [],
      "source": [
        "data_1['preprocessed_text'] = data_1['tokens'].apply(' '.join)\n",
        "data_1.head()"
      ]
    },
    {
      "cell_type": "code",
      "execution_count": null,
      "metadata": {
        "colab": {
          "base_uri": "https://localhost:8080/"
        },
        "id": "YDMEu5K2x4L6",
        "outputId": "20fc393c-bef0-41bf-ce79-d63044de3c74"
      },
      "outputs": [],
      "source": [
        "import nltk\n",
        "from nltk.sentiment.vader import SentimentIntensityAnalyzer\n",
        "nltk.download('vader_lexicon')\n",
        "sia = SentimentIntensityAnalyzer()\n",
        "# NLTK Sentiment Intensity Analyzer uses a 'Bag of Words' approach\n",
        "# it removes stop words and scores each word individually before compounding"
      ]
    },
    {
      "cell_type": "code",
      "execution_count": null,
      "metadata": {},
      "outputs": [],
      "source": [
        "data_duplicate = data_1.copy()\n",
        "data_duplicate['sentiment_score'] = data_duplicate['preprocessed_text'].apply(lambda x: sia.polarity_scores(x)['compound'])\n",
        "data_duplicate"
      ]
    },
    {
      "cell_type": "code",
      "execution_count": null,
      "metadata": {
        "colab": {
          "base_uri": "https://localhost:8080/"
        },
        "id": "X0nlV-P20K_8",
        "outputId": "2c43f90d-c726-46e3-c5d3-999274766fdf"
      },
      "outputs": [],
      "source": [
        "data_duplicate['sentiment_score'].describe()"
      ]
    },
    {
      "cell_type": "code",
      "execution_count": null,
      "metadata": {
        "colab": {
          "base_uri": "https://localhost:8080/"
        },
        "id": "RGBvIQCZ2Ew6",
        "outputId": "ce24972b-4612-4b4d-86f8-32e1d288a9c0"
      },
      "outputs": [],
      "source": [
        "data_duplicate.info()"
      ]
    },
    {
      "cell_type": "markdown",
      "metadata": {},
      "source": [
        "# Pull yfinance data"
      ]
    },
    {
      "cell_type": "code",
      "execution_count": 95,
      "metadata": {},
      "outputs": [],
      "source": [
        "tickers = data_duplicate.stock.unique()"
      ]
    },
    {
      "cell_type": "code",
      "execution_count": 100,
      "metadata": {},
      "outputs": [],
      "source": [
        "start_date, end_date = data_duplicate.date.sort_values().iloc[0], data_duplicate.date.sort_values().iloc[-1]"
      ]
    },
    {
      "cell_type": "code",
      "execution_count": 105,
      "metadata": {},
      "outputs": [
        {
          "name": "stdout",
          "output_type": "stream",
          "text": [
            "[*********************100%%**********************]  100 of 100 completed"
          ]
        },
        {
          "name": "stderr",
          "output_type": "stream",
          "text": [
            "\n",
            "13 Failed downloads:\n",
            "['AGN', 'JCP', 'ZNGA', 'MON', 'APC', 'BBBY', 'MYL']: Exception('%ticker%: No timezone found, symbol may be delisted')\n",
            "['PCLN', 'LNKD', 'BBRY', 'GMCR']: Exception('%ticker%: No price data found, symbol may be delisted (1d 2009-04-29 -> 2020-06-11)')\n",
            "['CHK', 'SHLD']: Exception(\"%ticker%: Data doesn't exist for startDate = 1240977600, endDate = 1591848000\")\n"
          ]
        },
        {
          "name": "stdout",
          "output_type": "stream",
          "text": [
            "\n"
          ]
        }
      ],
      "source": [
        "data = yf.download(list(tickers), start=start_date, end=end_date)"
      ]
    },
    {
      "cell_type": "code",
      "execution_count": 106,
      "metadata": {},
      "outputs": [
        {
          "data": {
            "text/html": [
              "<div>\n",
              "<style scoped>\n",
              "    .dataframe tbody tr th:only-of-type {\n",
              "        vertical-align: middle;\n",
              "    }\n",
              "\n",
              "    .dataframe tbody tr th {\n",
              "        vertical-align: top;\n",
              "    }\n",
              "\n",
              "    .dataframe thead tr th {\n",
              "        text-align: left;\n",
              "    }\n",
              "\n",
              "    .dataframe thead tr:last-of-type th {\n",
              "        text-align: right;\n",
              "    }\n",
              "</style>\n",
              "<table border=\"1\" class=\"dataframe\">\n",
              "  <thead>\n",
              "    <tr>\n",
              "      <th></th>\n",
              "      <th colspan=\"10\" halign=\"left\">Adj Close</th>\n",
              "      <th>...</th>\n",
              "      <th colspan=\"10\" halign=\"left\">Volume</th>\n",
              "    </tr>\n",
              "    <tr>\n",
              "      <th></th>\n",
              "      <th>A</th>\n",
              "      <th>ADBE</th>\n",
              "      <th>AGN</th>\n",
              "      <th>AIG</th>\n",
              "      <th>APC</th>\n",
              "      <th>ATVI</th>\n",
              "      <th>AVGO</th>\n",
              "      <th>AXP</th>\n",
              "      <th>AZN</th>\n",
              "      <th>BABA</th>\n",
              "      <th>...</th>\n",
              "      <th>URBN</th>\n",
              "      <th>VMW</th>\n",
              "      <th>VZ</th>\n",
              "      <th>WDC</th>\n",
              "      <th>WFC</th>\n",
              "      <th>XLF</th>\n",
              "      <th>XRT</th>\n",
              "      <th>YELP</th>\n",
              "      <th>YUM</th>\n",
              "      <th>ZNGA</th>\n",
              "    </tr>\n",
              "    <tr>\n",
              "      <th>Date</th>\n",
              "      <th></th>\n",
              "      <th></th>\n",
              "      <th></th>\n",
              "      <th></th>\n",
              "      <th></th>\n",
              "      <th></th>\n",
              "      <th></th>\n",
              "      <th></th>\n",
              "      <th></th>\n",
              "      <th></th>\n",
              "      <th></th>\n",
              "      <th></th>\n",
              "      <th></th>\n",
              "      <th></th>\n",
              "      <th></th>\n",
              "      <th></th>\n",
              "      <th></th>\n",
              "      <th></th>\n",
              "      <th></th>\n",
              "      <th></th>\n",
              "      <th></th>\n",
              "    </tr>\n",
              "  </thead>\n",
              "  <tbody>\n",
              "    <tr>\n",
              "      <th>2009-04-29</th>\n",
              "      <td>11.629640</td>\n",
              "      <td>26.750000</td>\n",
              "      <td>NaN</td>\n",
              "      <td>18.591227</td>\n",
              "      <td>NaN</td>\n",
              "      <td>9.411404</td>\n",
              "      <td>NaN</td>\n",
              "      <td>20.127361</td>\n",
              "      <td>10.166079</td>\n",
              "      <td>NaN</td>\n",
              "      <td>...</td>\n",
              "      <td>9728600</td>\n",
              "      <td>1814000</td>\n",
              "      <td>21459256</td>\n",
              "      <td>4270400</td>\n",
              "      <td>142750100</td>\n",
              "      <td>192158977</td>\n",
              "      <td>26430400</td>\n",
              "      <td>NaN</td>\n",
              "      <td>7280216</td>\n",
              "      <td>NaN</td>\n",
              "    </tr>\n",
              "    <tr>\n",
              "      <th>2009-04-30</th>\n",
              "      <td>11.777991</td>\n",
              "      <td>27.350000</td>\n",
              "      <td>NaN</td>\n",
              "      <td>18.195669</td>\n",
              "      <td>NaN</td>\n",
              "      <td>9.446487</td>\n",
              "      <td>NaN</td>\n",
              "      <td>20.345181</td>\n",
              "      <td>9.726615</td>\n",
              "      <td>NaN</td>\n",
              "      <td>...</td>\n",
              "      <td>9012600</td>\n",
              "      <td>2106300</td>\n",
              "      <td>23924686</td>\n",
              "      <td>7831600</td>\n",
              "      <td>115836200</td>\n",
              "      <td>215537513</td>\n",
              "      <td>29959000</td>\n",
              "      <td>NaN</td>\n",
              "      <td>7283276</td>\n",
              "      <td>NaN</td>\n",
              "    </tr>\n",
              "    <tr>\n",
              "      <th>2009-05-01</th>\n",
              "      <td>12.132751</td>\n",
              "      <td>27.459999</td>\n",
              "      <td>NaN</td>\n",
              "      <td>18.195669</td>\n",
              "      <td>NaN</td>\n",
              "      <td>9.507887</td>\n",
              "      <td>NaN</td>\n",
              "      <td>19.594938</td>\n",
              "      <td>9.782243</td>\n",
              "      <td>NaN</td>\n",
              "      <td>...</td>\n",
              "      <td>6598900</td>\n",
              "      <td>1435300</td>\n",
              "      <td>13002285</td>\n",
              "      <td>4485000</td>\n",
              "      <td>96730100</td>\n",
              "      <td>137526705</td>\n",
              "      <td>32675200</td>\n",
              "      <td>NaN</td>\n",
              "      <td>6228203</td>\n",
              "      <td>NaN</td>\n",
              "    </tr>\n",
              "    <tr>\n",
              "      <th>2009-05-04</th>\n",
              "      <td>12.526214</td>\n",
              "      <td>26.690001</td>\n",
              "      <td>NaN</td>\n",
              "      <td>19.250494</td>\n",
              "      <td>NaN</td>\n",
              "      <td>9.692082</td>\n",
              "      <td>NaN</td>\n",
              "      <td>22.006989</td>\n",
              "      <td>10.010321</td>\n",
              "      <td>NaN</td>\n",
              "      <td>...</td>\n",
              "      <td>5050000</td>\n",
              "      <td>2687900</td>\n",
              "      <td>16180380</td>\n",
              "      <td>4740400</td>\n",
              "      <td>294065000</td>\n",
              "      <td>260737864</td>\n",
              "      <td>31001000</td>\n",
              "      <td>NaN</td>\n",
              "      <td>10258764</td>\n",
              "      <td>NaN</td>\n",
              "    </tr>\n",
              "    <tr>\n",
              "      <th>2009-05-05</th>\n",
              "      <td>12.081153</td>\n",
              "      <td>26.889999</td>\n",
              "      <td>NaN</td>\n",
              "      <td>22.810509</td>\n",
              "      <td>NaN</td>\n",
              "      <td>9.621910</td>\n",
              "      <td>NaN</td>\n",
              "      <td>21.434231</td>\n",
              "      <td>9.887935</td>\n",
              "      <td>NaN</td>\n",
              "      <td>...</td>\n",
              "      <td>5925100</td>\n",
              "      <td>3689100</td>\n",
              "      <td>17482986</td>\n",
              "      <td>4889500</td>\n",
              "      <td>175576000</td>\n",
              "      <td>200012388</td>\n",
              "      <td>17197400</td>\n",
              "      <td>NaN</td>\n",
              "      <td>8831181</td>\n",
              "      <td>NaN</td>\n",
              "    </tr>\n",
              "    <tr>\n",
              "      <th>...</th>\n",
              "      <td>...</td>\n",
              "      <td>...</td>\n",
              "      <td>...</td>\n",
              "      <td>...</td>\n",
              "      <td>...</td>\n",
              "      <td>...</td>\n",
              "      <td>...</td>\n",
              "      <td>...</td>\n",
              "      <td>...</td>\n",
              "      <td>...</td>\n",
              "      <td>...</td>\n",
              "      <td>...</td>\n",
              "      <td>...</td>\n",
              "      <td>...</td>\n",
              "      <td>...</td>\n",
              "      <td>...</td>\n",
              "      <td>...</td>\n",
              "      <td>...</td>\n",
              "      <td>...</td>\n",
              "      <td>...</td>\n",
              "      <td>...</td>\n",
              "    </tr>\n",
              "    <tr>\n",
              "      <th>2020-06-04</th>\n",
              "      <td>89.064148</td>\n",
              "      <td>385.799988</td>\n",
              "      <td>NaN</td>\n",
              "      <td>31.996899</td>\n",
              "      <td>NaN</td>\n",
              "      <td>68.326012</td>\n",
              "      <td>277.644440</td>\n",
              "      <td>101.979034</td>\n",
              "      <td>49.753910</td>\n",
              "      <td>218.039993</td>\n",
              "      <td>...</td>\n",
              "      <td>2600700</td>\n",
              "      <td>1318100</td>\n",
              "      <td>16147300</td>\n",
              "      <td>6973000</td>\n",
              "      <td>61839200</td>\n",
              "      <td>97575100</td>\n",
              "      <td>5712900</td>\n",
              "      <td>1081200.0</td>\n",
              "      <td>2537000</td>\n",
              "      <td>NaN</td>\n",
              "    </tr>\n",
              "    <tr>\n",
              "      <th>2020-06-05</th>\n",
              "      <td>88.321449</td>\n",
              "      <td>392.899994</td>\n",
              "      <td>NaN</td>\n",
              "      <td>33.041962</td>\n",
              "      <td>NaN</td>\n",
              "      <td>67.954094</td>\n",
              "      <td>285.005951</td>\n",
              "      <td>105.032455</td>\n",
              "      <td>49.735439</td>\n",
              "      <td>219.550003</td>\n",
              "      <td>...</td>\n",
              "      <td>1548000</td>\n",
              "      <td>1531100</td>\n",
              "      <td>17105600</td>\n",
              "      <td>7708200</td>\n",
              "      <td>107651200</td>\n",
              "      <td>135859300</td>\n",
              "      <td>3879200</td>\n",
              "      <td>2572200.0</td>\n",
              "      <td>3722800</td>\n",
              "      <td>NaN</td>\n",
              "    </tr>\n",
              "    <tr>\n",
              "      <th>2020-06-08</th>\n",
              "      <td>88.233482</td>\n",
              "      <td>397.779999</td>\n",
              "      <td>NaN</td>\n",
              "      <td>35.840897</td>\n",
              "      <td>NaN</td>\n",
              "      <td>69.226448</td>\n",
              "      <td>285.401489</td>\n",
              "      <td>108.803780</td>\n",
              "      <td>48.562477</td>\n",
              "      <td>219.000000</td>\n",
              "      <td>...</td>\n",
              "      <td>1629800</td>\n",
              "      <td>1357900</td>\n",
              "      <td>14963000</td>\n",
              "      <td>5376700</td>\n",
              "      <td>69051300</td>\n",
              "      <td>80298400</td>\n",
              "      <td>4900800</td>\n",
              "      <td>1194200.0</td>\n",
              "      <td>2748000</td>\n",
              "      <td>NaN</td>\n",
              "    </tr>\n",
              "    <tr>\n",
              "      <th>2020-06-09</th>\n",
              "      <td>87.725349</td>\n",
              "      <td>397.160004</td>\n",
              "      <td>NaN</td>\n",
              "      <td>34.296036</td>\n",
              "      <td>NaN</td>\n",
              "      <td>70.469452</td>\n",
              "      <td>283.424072</td>\n",
              "      <td>105.731216</td>\n",
              "      <td>48.701019</td>\n",
              "      <td>220.720001</td>\n",
              "      <td>...</td>\n",
              "      <td>2361900</td>\n",
              "      <td>1193800</td>\n",
              "      <td>14530800</td>\n",
              "      <td>4124000</td>\n",
              "      <td>51480400</td>\n",
              "      <td>92833100</td>\n",
              "      <td>7829400</td>\n",
              "      <td>1653800.0</td>\n",
              "      <td>2063200</td>\n",
              "      <td>NaN</td>\n",
              "    </tr>\n",
              "    <tr>\n",
              "      <th>2020-06-10</th>\n",
              "      <td>87.764427</td>\n",
              "      <td>406.820007</td>\n",
              "      <td>NaN</td>\n",
              "      <td>31.951466</td>\n",
              "      <td>NaN</td>\n",
              "      <td>72.250763</td>\n",
              "      <td>283.172394</td>\n",
              "      <td>101.615318</td>\n",
              "      <td>49.541485</td>\n",
              "      <td>223.679993</td>\n",
              "      <td>...</td>\n",
              "      <td>1656300</td>\n",
              "      <td>1467300</td>\n",
              "      <td>13649100</td>\n",
              "      <td>4894500</td>\n",
              "      <td>82090000</td>\n",
              "      <td>110848900</td>\n",
              "      <td>5895600</td>\n",
              "      <td>882800.0</td>\n",
              "      <td>2418600</td>\n",
              "      <td>NaN</td>\n",
              "    </tr>\n",
              "  </tbody>\n",
              "</table>\n",
              "<p>2799 rows × 600 columns</p>\n",
              "</div>"
            ],
            "text/plain": [
              "            Adj Close                                                        \\\n",
              "                    A        ADBE AGN        AIG APC       ATVI        AVGO   \n",
              "Date                                                                          \n",
              "2009-04-29  11.629640   26.750000 NaN  18.591227 NaN   9.411404         NaN   \n",
              "2009-04-30  11.777991   27.350000 NaN  18.195669 NaN   9.446487         NaN   \n",
              "2009-05-01  12.132751   27.459999 NaN  18.195669 NaN   9.507887         NaN   \n",
              "2009-05-04  12.526214   26.690001 NaN  19.250494 NaN   9.692082         NaN   \n",
              "2009-05-05  12.081153   26.889999 NaN  22.810509 NaN   9.621910         NaN   \n",
              "...               ...         ...  ..        ...  ..        ...         ...   \n",
              "2020-06-04  89.064148  385.799988 NaN  31.996899 NaN  68.326012  277.644440   \n",
              "2020-06-05  88.321449  392.899994 NaN  33.041962 NaN  67.954094  285.005951   \n",
              "2020-06-08  88.233482  397.779999 NaN  35.840897 NaN  69.226448  285.401489   \n",
              "2020-06-09  87.725349  397.160004 NaN  34.296036 NaN  70.469452  283.424072   \n",
              "2020-06-10  87.764427  406.820007 NaN  31.951466 NaN  72.250763  283.172394   \n",
              "\n",
              "                                               ...   Volume           \\\n",
              "                   AXP        AZN        BABA  ...     URBN      VMW   \n",
              "Date                                           ...                     \n",
              "2009-04-29   20.127361  10.166079         NaN  ...  9728600  1814000   \n",
              "2009-04-30   20.345181   9.726615         NaN  ...  9012600  2106300   \n",
              "2009-05-01   19.594938   9.782243         NaN  ...  6598900  1435300   \n",
              "2009-05-04   22.006989  10.010321         NaN  ...  5050000  2687900   \n",
              "2009-05-05   21.434231   9.887935         NaN  ...  5925100  3689100   \n",
              "...                ...        ...         ...  ...      ...      ...   \n",
              "2020-06-04  101.979034  49.753910  218.039993  ...  2600700  1318100   \n",
              "2020-06-05  105.032455  49.735439  219.550003  ...  1548000  1531100   \n",
              "2020-06-08  108.803780  48.562477  219.000000  ...  1629800  1357900   \n",
              "2020-06-09  105.731216  48.701019  220.720001  ...  2361900  1193800   \n",
              "2020-06-10  101.615318  49.541485  223.679993  ...  1656300  1467300   \n",
              "\n",
              "                                                                          \\\n",
              "                  VZ      WDC        WFC        XLF       XRT       YELP   \n",
              "Date                                                                       \n",
              "2009-04-29  21459256  4270400  142750100  192158977  26430400        NaN   \n",
              "2009-04-30  23924686  7831600  115836200  215537513  29959000        NaN   \n",
              "2009-05-01  13002285  4485000   96730100  137526705  32675200        NaN   \n",
              "2009-05-04  16180380  4740400  294065000  260737864  31001000        NaN   \n",
              "2009-05-05  17482986  4889500  175576000  200012388  17197400        NaN   \n",
              "...              ...      ...        ...        ...       ...        ...   \n",
              "2020-06-04  16147300  6973000   61839200   97575100   5712900  1081200.0   \n",
              "2020-06-05  17105600  7708200  107651200  135859300   3879200  2572200.0   \n",
              "2020-06-08  14963000  5376700   69051300   80298400   4900800  1194200.0   \n",
              "2020-06-09  14530800  4124000   51480400   92833100   7829400  1653800.0   \n",
              "2020-06-10  13649100  4894500   82090000  110848900   5895600   882800.0   \n",
              "\n",
              "                           \n",
              "                 YUM ZNGA  \n",
              "Date                       \n",
              "2009-04-29   7280216  NaN  \n",
              "2009-04-30   7283276  NaN  \n",
              "2009-05-01   6228203  NaN  \n",
              "2009-05-04  10258764  NaN  \n",
              "2009-05-05   8831181  NaN  \n",
              "...              ...  ...  \n",
              "2020-06-04   2537000  NaN  \n",
              "2020-06-05   3722800  NaN  \n",
              "2020-06-08   2748000  NaN  \n",
              "2020-06-09   2063200  NaN  \n",
              "2020-06-10   2418600  NaN  \n",
              "\n",
              "[2799 rows x 600 columns]"
            ]
          },
          "execution_count": 106,
          "metadata": {},
          "output_type": "execute_result"
        }
      ],
      "source": [
        "data"
      ]
    }
  ],
  "metadata": {
    "colab": {
      "provenance": []
    },
    "kernelspec": {
      "display_name": "Python 3",
      "name": "python3"
    },
    "language_info": {
      "codemirror_mode": {
        "name": "ipython",
        "version": 3
      },
      "file_extension": ".py",
      "mimetype": "text/x-python",
      "name": "python",
      "nbconvert_exporter": "python",
      "pygments_lexer": "ipython3",
      "version": "3.8.8"
    }
  },
  "nbformat": 4,
  "nbformat_minor": 0
}
