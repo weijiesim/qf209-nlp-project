{
  "cells": [
    {
      "cell_type": "code",
      "execution_count": 1,
      "metadata": {
        "colab": {
          "base_uri": "https://localhost:8080/",
          "height": 206
        },
        "id": "_mdkZqU2Zhnq",
        "outputId": "4ce0b414-8d9d-4f4d-8fd2-932158169f7f"
      },
      "outputs": [],
      "source": [
        "import pandas as pd\n",
        "import numpy as np\n",
        "import datetime as dt\n",
        "import yfinance as yf\n",
        "import plotly.express as px"
      ]
    },
    {
      "cell_type": "markdown",
      "metadata": {},
      "source": [
        "# Data Exploration"
      ]
    },
    {
      "cell_type": "code",
      "execution_count": 2,
      "metadata": {},
      "outputs": [
        {
          "data": {
            "text/html": [
              "<div>\n",
              "<style scoped>\n",
              "    .dataframe tbody tr th:only-of-type {\n",
              "        vertical-align: middle;\n",
              "    }\n",
              "\n",
              "    .dataframe tbody tr th {\n",
              "        vertical-align: top;\n",
              "    }\n",
              "\n",
              "    .dataframe thead th {\n",
              "        text-align: right;\n",
              "    }\n",
              "</style>\n",
              "<table border=\"1\" class=\"dataframe\">\n",
              "  <thead>\n",
              "    <tr style=\"text-align: right;\">\n",
              "      <th></th>\n",
              "      <th>title</th>\n",
              "      <th>date</th>\n",
              "      <th>stock</th>\n",
              "    </tr>\n",
              "  </thead>\n",
              "  <tbody>\n",
              "    <tr>\n",
              "      <th>0.0</th>\n",
              "      <td>Stocks That Hit 52-Week Highs On Friday</td>\n",
              "      <td>2020-06-05 10:30:00-04:00</td>\n",
              "      <td>A</td>\n",
              "    </tr>\n",
              "    <tr>\n",
              "      <th>1.0</th>\n",
              "      <td>Stocks That Hit 52-Week Highs On Wednesday</td>\n",
              "      <td>2020-06-03 10:45:00-04:00</td>\n",
              "      <td>A</td>\n",
              "    </tr>\n",
              "    <tr>\n",
              "      <th>2.0</th>\n",
              "      <td>71 Biggest Movers From Friday</td>\n",
              "      <td>2020-05-26 04:30:00-04:00</td>\n",
              "      <td>A</td>\n",
              "    </tr>\n",
              "    <tr>\n",
              "      <th>3.0</th>\n",
              "      <td>46 Stocks Moving In Friday's Mid-Day Session</td>\n",
              "      <td>2020-05-22 12:45:00-04:00</td>\n",
              "      <td>A</td>\n",
              "    </tr>\n",
              "    <tr>\n",
              "      <th>4.0</th>\n",
              "      <td>B of A Securities Maintains Neutral on Agilent...</td>\n",
              "      <td>2020-05-22 11:38:00-04:00</td>\n",
              "      <td>A</td>\n",
              "    </tr>\n",
              "  </tbody>\n",
              "</table>\n",
              "</div>"
            ],
            "text/plain": [
              "                                                 title  \\\n",
              "0.0            Stocks That Hit 52-Week Highs On Friday   \n",
              "1.0         Stocks That Hit 52-Week Highs On Wednesday   \n",
              "2.0                      71 Biggest Movers From Friday   \n",
              "3.0       46 Stocks Moving In Friday's Mid-Day Session   \n",
              "4.0  B of A Securities Maintains Neutral on Agilent...   \n",
              "\n",
              "                          date stock  \n",
              "0.0  2020-06-05 10:30:00-04:00     A  \n",
              "1.0  2020-06-03 10:45:00-04:00     A  \n",
              "2.0  2020-05-26 04:30:00-04:00     A  \n",
              "3.0  2020-05-22 12:45:00-04:00     A  \n",
              "4.0  2020-05-22 11:38:00-04:00     A  "
            ]
          },
          "execution_count": 2,
          "metadata": {},
          "output_type": "execute_result"
        }
      ],
      "source": [
        "data_1 = pd.read_csv(\"data/daily_financial_news/analyst_ratings_processed.csv\", index_col=0)\n",
        "data_1.head()"
      ]
    },
    {
      "cell_type": "code",
      "execution_count": 3,
      "metadata": {},
      "outputs": [],
      "source": [
        "data_1['date'] = data_1['date'].str.split(' ', expand=True).iloc[:, 0]"
      ]
    },
    {
      "cell_type": "code",
      "execution_count": 4,
      "metadata": {},
      "outputs": [
        {
          "data": {
            "text/html": [
              "<div>\n",
              "<style scoped>\n",
              "    .dataframe tbody tr th:only-of-type {\n",
              "        vertical-align: middle;\n",
              "    }\n",
              "\n",
              "    .dataframe tbody tr th {\n",
              "        vertical-align: top;\n",
              "    }\n",
              "\n",
              "    .dataframe thead th {\n",
              "        text-align: right;\n",
              "    }\n",
              "</style>\n",
              "<table border=\"1\" class=\"dataframe\">\n",
              "  <thead>\n",
              "    <tr style=\"text-align: right;\">\n",
              "      <th></th>\n",
              "      <th>title</th>\n",
              "      <th>date</th>\n",
              "      <th>stock</th>\n",
              "    </tr>\n",
              "  </thead>\n",
              "  <tbody>\n",
              "    <tr>\n",
              "      <th>0.0</th>\n",
              "      <td>Stocks That Hit 52-Week Highs On Friday</td>\n",
              "      <td>2020-06-05</td>\n",
              "      <td>A</td>\n",
              "    </tr>\n",
              "    <tr>\n",
              "      <th>1.0</th>\n",
              "      <td>Stocks That Hit 52-Week Highs On Wednesday</td>\n",
              "      <td>2020-06-03</td>\n",
              "      <td>A</td>\n",
              "    </tr>\n",
              "    <tr>\n",
              "      <th>2.0</th>\n",
              "      <td>71 Biggest Movers From Friday</td>\n",
              "      <td>2020-05-26</td>\n",
              "      <td>A</td>\n",
              "    </tr>\n",
              "    <tr>\n",
              "      <th>3.0</th>\n",
              "      <td>46 Stocks Moving In Friday's Mid-Day Session</td>\n",
              "      <td>2020-05-22</td>\n",
              "      <td>A</td>\n",
              "    </tr>\n",
              "    <tr>\n",
              "      <th>4.0</th>\n",
              "      <td>B of A Securities Maintains Neutral on Agilent...</td>\n",
              "      <td>2020-05-22</td>\n",
              "      <td>A</td>\n",
              "    </tr>\n",
              "  </tbody>\n",
              "</table>\n",
              "</div>"
            ],
            "text/plain": [
              "                                                 title        date stock\n",
              "0.0            Stocks That Hit 52-Week Highs On Friday  2020-06-05     A\n",
              "1.0         Stocks That Hit 52-Week Highs On Wednesday  2020-06-03     A\n",
              "2.0                      71 Biggest Movers From Friday  2020-05-26     A\n",
              "3.0       46 Stocks Moving In Friday's Mid-Day Session  2020-05-22     A\n",
              "4.0  B of A Securities Maintains Neutral on Agilent...  2020-05-22     A"
            ]
          },
          "execution_count": 4,
          "metadata": {},
          "output_type": "execute_result"
        }
      ],
      "source": [
        "data_1.head()"
      ]
    },
    {
      "cell_type": "code",
      "execution_count": 5,
      "metadata": {},
      "outputs": [
        {
          "data": {
            "text/plain": [
              "6192"
            ]
          },
          "execution_count": 5,
          "metadata": {},
          "output_type": "execute_result"
        }
      ],
      "source": [
        "data_1['stock'].nunique()"
      ]
    },
    {
      "cell_type": "code",
      "execution_count": 6,
      "metadata": {
        "colab": {
          "base_uri": "https://localhost:8080/"
        },
        "id": "oVlMohoBlTJQ",
        "outputId": "15579c96-a538-480e-cf36-81553f02c734"
      },
      "outputs": [
        {
          "name": "stdout",
          "output_type": "stream",
          "text": [
            "<class 'pandas.core.frame.DataFrame'>\n",
            "Index: 1400469 entries, 0.0 to 1413848.0\n",
            "Data columns (total 3 columns):\n",
            " #   Column  Non-Null Count    Dtype \n",
            "---  ------  --------------    ----- \n",
            " 0   title   1400469 non-null  object\n",
            " 1   date    1399180 non-null  object\n",
            " 2   stock   1397891 non-null  object\n",
            "dtypes: object(3)\n",
            "memory usage: 42.7+ MB\n"
          ]
        }
      ],
      "source": [
        "data_1.info()"
      ]
    },
    {
      "cell_type": "markdown",
      "metadata": {},
      "source": [
        "## Drop Null Values"
      ]
    },
    {
      "cell_type": "code",
      "execution_count": 7,
      "metadata": {
        "colab": {
          "base_uri": "https://localhost:8080/"
        },
        "id": "TKt6rDWBlk8l",
        "outputId": "9512fd8d-8077-4237-937c-e87a35976c89"
      },
      "outputs": [
        {
          "name": "stdout",
          "output_type": "stream",
          "text": [
            "title       0\n",
            "date     1289\n",
            "stock    2578\n",
            "dtype: int64\n"
          ]
        }
      ],
      "source": [
        "print(data_1.isna().sum())"
      ]
    },
    {
      "cell_type": "code",
      "execution_count": 8,
      "metadata": {
        "colab": {
          "base_uri": "https://localhost:8080/"
        },
        "id": "S9pDiHR3nCvC",
        "outputId": "606a9af2-c319-4559-b501-5f7cdd954638"
      },
      "outputs": [
        {
          "name": "stdout",
          "output_type": "stream",
          "text": [
            "(1400469, 3)\n"
          ]
        }
      ],
      "source": [
        "print(data_1.shape)"
      ]
    },
    {
      "cell_type": "code",
      "execution_count": 9,
      "metadata": {},
      "outputs": [
        {
          "data": {
            "text/html": [
              "<div>\n",
              "<style scoped>\n",
              "    .dataframe tbody tr th:only-of-type {\n",
              "        vertical-align: middle;\n",
              "    }\n",
              "\n",
              "    .dataframe tbody tr th {\n",
              "        vertical-align: top;\n",
              "    }\n",
              "\n",
              "    .dataframe thead th {\n",
              "        text-align: right;\n",
              "    }\n",
              "</style>\n",
              "<table border=\"1\" class=\"dataframe\">\n",
              "  <thead>\n",
              "    <tr style=\"text-align: right;\">\n",
              "      <th></th>\n",
              "      <th>title</th>\n",
              "      <th>date</th>\n",
              "      <th>stock</th>\n",
              "    </tr>\n",
              "  </thead>\n",
              "  <tbody>\n",
              "    <tr>\n",
              "      <th>5714.0</th>\n",
              "      <td>Sterne Agee Provides Color on Aaron's</td>\n",
              "      <td>NaN</td>\n",
              "      <td>NaN</td>\n",
              "    </tr>\n",
              "    <tr>\n",
              "      <th>7021.0</th>\n",
              "      <td>Goldman Sachs Updates on Car Parts</td>\n",
              "      <td>NaN</td>\n",
              "      <td>NaN</td>\n",
              "    </tr>\n",
              "    <tr>\n",
              "      <th>13735.0</th>\n",
              "      <td>American Campus to Offer 15M Shares</td>\n",
              "      <td>NaN</td>\n",
              "      <td>NaN</td>\n",
              "    </tr>\n",
              "    <tr>\n",
              "      <th>13764.0</th>\n",
              "      <td>American Campus Communities Reports Q2 FFOM of...</td>\n",
              "      <td>NaN</td>\n",
              "      <td>NaN</td>\n",
              "    </tr>\n",
              "    <tr>\n",
              "      <th>14421.0</th>\n",
              "      <td>Positive Seeking Alpha Article on Aceto Corpor...</td>\n",
              "      <td>NaN</td>\n",
              "      <td>NaN</td>\n",
              "    </tr>\n",
              "    <tr>\n",
              "      <th>...</th>\n",
              "      <td>...</td>\n",
              "      <td>...</td>\n",
              "      <td>...</td>\n",
              "    </tr>\n",
              "    <tr>\n",
              "      <th>1410993.0</th>\n",
              "      <td>Zynga Loses Its CTO of Mobile -AllThingsD</td>\n",
              "      <td>NaN</td>\n",
              "      <td>NaN</td>\n",
              "    </tr>\n",
              "    <tr>\n",
              "      <th>1411126.0</th>\n",
              "      <td>Looks Like Zynga Just Bought OMGPOP For $200 M...</td>\n",
              "      <td>NaN</td>\n",
              "      <td>NaN</td>\n",
              "    </tr>\n",
              "    <tr>\n",
              "      <th>1411150.0</th>\n",
              "      <td>Zynga Lead Game Designer Leaving the Company -...</td>\n",
              "      <td>NaN</td>\n",
              "      <td>NaN</td>\n",
              "    </tr>\n",
              "    <tr>\n",
              "      <th>1412824.0</th>\n",
              "      <td>Waiting on Several IPOs This Morning:</td>\n",
              "      <td>NaN</td>\n",
              "      <td>NaN</td>\n",
              "    </tr>\n",
              "    <tr>\n",
              "      <th>1413676.0</th>\n",
              "      <td>Wall Street Strategies Reports On Retailers' S...</td>\n",
              "      <td>NaN</td>\n",
              "      <td>NaN</td>\n",
              "    </tr>\n",
              "  </tbody>\n",
              "</table>\n",
              "<p>1289 rows × 3 columns</p>\n",
              "</div>"
            ],
            "text/plain": [
              "                                                       title date stock\n",
              "5714.0                 Sterne Agee Provides Color on Aaron's  NaN   NaN\n",
              "7021.0                    Goldman Sachs Updates on Car Parts  NaN   NaN\n",
              "13735.0                  American Campus to Offer 15M Shares  NaN   NaN\n",
              "13764.0    American Campus Communities Reports Q2 FFOM of...  NaN   NaN\n",
              "14421.0    Positive Seeking Alpha Article on Aceto Corpor...  NaN   NaN\n",
              "...                                                      ...  ...   ...\n",
              "1410993.0          Zynga Loses Its CTO of Mobile -AllThingsD  NaN   NaN\n",
              "1411126.0  Looks Like Zynga Just Bought OMGPOP For $200 M...  NaN   NaN\n",
              "1411150.0  Zynga Lead Game Designer Leaving the Company -...  NaN   NaN\n",
              "1412824.0              Waiting on Several IPOs This Morning:  NaN   NaN\n",
              "1413676.0  Wall Street Strategies Reports On Retailers' S...  NaN   NaN\n",
              "\n",
              "[1289 rows x 3 columns]"
            ]
          },
          "execution_count": 9,
          "metadata": {},
          "output_type": "execute_result"
        }
      ],
      "source": [
        "data_1[data_1['date'].isna()]"
      ]
    },
    {
      "cell_type": "code",
      "execution_count": 10,
      "metadata": {
        "id": "nV5Xn1-2oMTG"
      },
      "outputs": [],
      "source": [
        "data_1.dropna(subset=['date'],inplace=True)\n",
        "data_1.dropna(subset=['stock'],inplace=True)"
      ]
    },
    {
      "cell_type": "code",
      "execution_count": 11,
      "metadata": {
        "colab": {
          "base_uri": "https://localhost:8080/"
        },
        "id": "ZkszMKzlpVnL",
        "outputId": "f2b99e34-dab9-4f73-805c-c1db92b21862"
      },
      "outputs": [
        {
          "name": "stdout",
          "output_type": "stream",
          "text": [
            "(1397891, 3)\n"
          ]
        }
      ],
      "source": [
        "print(data_1.shape)"
      ]
    },
    {
      "cell_type": "code",
      "execution_count": 12,
      "metadata": {
        "colab": {
          "base_uri": "https://localhost:8080/"
        },
        "id": "FG6ydygqpZx1",
        "outputId": "9fff9776-66d4-42ad-9307-309dd0fbd9f6"
      },
      "outputs": [
        {
          "name": "stdout",
          "output_type": "stream",
          "text": [
            "title    0\n",
            "date     0\n",
            "stock    0\n",
            "dtype: int64\n"
          ]
        }
      ],
      "source": [
        "print(data_1.isna().sum())"
      ]
    },
    {
      "cell_type": "code",
      "execution_count": 13,
      "metadata": {
        "colab": {
          "base_uri": "https://localhost:8080/"
        },
        "id": "lthUY-R-phFG",
        "outputId": "39c496c4-1489-4457-93e0-5e88c8054b29"
      },
      "outputs": [
        {
          "name": "stdout",
          "output_type": "stream",
          "text": [
            "<class 'pandas.core.frame.DataFrame'>\n",
            "Index: 1397891 entries, 0.0 to 1413848.0\n",
            "Data columns (total 3 columns):\n",
            " #   Column  Non-Null Count    Dtype \n",
            "---  ------  --------------    ----- \n",
            " 0   title   1397891 non-null  object\n",
            " 1   date    1397891 non-null  object\n",
            " 2   stock   1397891 non-null  object\n",
            "dtypes: object(3)\n",
            "memory usage: 42.7+ MB\n"
          ]
        }
      ],
      "source": [
        "data_1.info()"
      ]
    },
    {
      "cell_type": "markdown",
      "metadata": {},
      "source": [
        "## Filter stocks"
      ]
    },
    {
      "cell_type": "code",
      "execution_count": 14,
      "metadata": {},
      "outputs": [
        {
          "data": {
            "text/html": [
              "<div>\n",
              "<style scoped>\n",
              "    .dataframe tbody tr th:only-of-type {\n",
              "        vertical-align: middle;\n",
              "    }\n",
              "\n",
              "    .dataframe tbody tr th {\n",
              "        vertical-align: top;\n",
              "    }\n",
              "\n",
              "    .dataframe thead th {\n",
              "        text-align: right;\n",
              "    }\n",
              "</style>\n",
              "<table border=\"1\" class=\"dataframe\">\n",
              "  <thead>\n",
              "    <tr style=\"text-align: right;\">\n",
              "      <th></th>\n",
              "      <th>stock</th>\n",
              "      <th>size</th>\n",
              "    </tr>\n",
              "  </thead>\n",
              "  <tbody>\n",
              "    <tr>\n",
              "      <th>0</th>\n",
              "      <td>MRK</td>\n",
              "      <td>3334</td>\n",
              "    </tr>\n",
              "    <tr>\n",
              "      <th>1</th>\n",
              "      <td>MS</td>\n",
              "      <td>3242</td>\n",
              "    </tr>\n",
              "    <tr>\n",
              "      <th>2</th>\n",
              "      <td>MU</td>\n",
              "      <td>3144</td>\n",
              "    </tr>\n",
              "    <tr>\n",
              "      <th>3</th>\n",
              "      <td>NVDA</td>\n",
              "      <td>3133</td>\n",
              "    </tr>\n",
              "    <tr>\n",
              "      <th>4</th>\n",
              "      <td>QQQ</td>\n",
              "      <td>3100</td>\n",
              "    </tr>\n",
              "  </tbody>\n",
              "</table>\n",
              "</div>"
            ],
            "text/plain": [
              "  stock  size\n",
              "0   MRK  3334\n",
              "1    MS  3242\n",
              "2    MU  3144\n",
              "3  NVDA  3133\n",
              "4   QQQ  3100"
            ]
          },
          "execution_count": 14,
          "metadata": {},
          "output_type": "execute_result"
        }
      ],
      "source": [
        "# Filter dataset down to stocks with top 100 number of headlines\n",
        "top_100_stocks_by_headlines = data_1.groupby('stock').size().reset_index(name='size').sort_values('size', ascending=False).reset_index(drop=True).iloc[:100]\n",
        "top_100_stocks_by_headlines.head()"
      ]
    },
    {
      "cell_type": "code",
      "execution_count": 15,
      "metadata": {},
      "outputs": [],
      "source": [
        "data_1 = data_1[data_1['stock'].isin(top_100_stocks_by_headlines.stock)]"
      ]
    },
    {
      "cell_type": "code",
      "execution_count": 16,
      "metadata": {},
      "outputs": [
        {
          "data": {
            "text/plain": [
              "(212110, 3)"
            ]
          },
          "execution_count": 16,
          "metadata": {},
          "output_type": "execute_result"
        }
      ],
      "source": [
        "data_1.shape"
      ]
    },
    {
      "cell_type": "markdown",
      "metadata": {},
      "source": [
        "## Clean Text Data"
      ]
    },
    {
      "cell_type": "code",
      "execution_count": 17,
      "metadata": {
        "id": "bysKZg9qtnrg"
      },
      "outputs": [],
      "source": [
        "data_1['title'] = data_1['title'].str.lower()"
      ]
    },
    {
      "cell_type": "code",
      "execution_count": 18,
      "metadata": {
        "colab": {
          "base_uri": "https://localhost:8080/",
          "height": 206
        },
        "id": "j0Ci37Nwt9fX",
        "outputId": "027046b6-7432-4457-8727-aebebc71e119"
      },
      "outputs": [
        {
          "data": {
            "text/html": [
              "<div>\n",
              "<style scoped>\n",
              "    .dataframe tbody tr th:only-of-type {\n",
              "        vertical-align: middle;\n",
              "    }\n",
              "\n",
              "    .dataframe tbody tr th {\n",
              "        vertical-align: top;\n",
              "    }\n",
              "\n",
              "    .dataframe thead th {\n",
              "        text-align: right;\n",
              "    }\n",
              "</style>\n",
              "<table border=\"1\" class=\"dataframe\">\n",
              "  <thead>\n",
              "    <tr style=\"text-align: right;\">\n",
              "      <th></th>\n",
              "      <th>title</th>\n",
              "      <th>date</th>\n",
              "      <th>stock</th>\n",
              "    </tr>\n",
              "  </thead>\n",
              "  <tbody>\n",
              "    <tr>\n",
              "      <th>0.0</th>\n",
              "      <td>stocks that hit 52-week highs on friday</td>\n",
              "      <td>2020-06-05</td>\n",
              "      <td>A</td>\n",
              "    </tr>\n",
              "    <tr>\n",
              "      <th>1.0</th>\n",
              "      <td>stocks that hit 52-week highs on wednesday</td>\n",
              "      <td>2020-06-03</td>\n",
              "      <td>A</td>\n",
              "    </tr>\n",
              "    <tr>\n",
              "      <th>2.0</th>\n",
              "      <td>71 biggest movers from friday</td>\n",
              "      <td>2020-05-26</td>\n",
              "      <td>A</td>\n",
              "    </tr>\n",
              "    <tr>\n",
              "      <th>3.0</th>\n",
              "      <td>46 stocks moving in friday's mid-day session</td>\n",
              "      <td>2020-05-22</td>\n",
              "      <td>A</td>\n",
              "    </tr>\n",
              "    <tr>\n",
              "      <th>4.0</th>\n",
              "      <td>b of a securities maintains neutral on agilent...</td>\n",
              "      <td>2020-05-22</td>\n",
              "      <td>A</td>\n",
              "    </tr>\n",
              "  </tbody>\n",
              "</table>\n",
              "</div>"
            ],
            "text/plain": [
              "                                                 title        date stock\n",
              "0.0            stocks that hit 52-week highs on friday  2020-06-05     A\n",
              "1.0         stocks that hit 52-week highs on wednesday  2020-06-03     A\n",
              "2.0                      71 biggest movers from friday  2020-05-26     A\n",
              "3.0       46 stocks moving in friday's mid-day session  2020-05-22     A\n",
              "4.0  b of a securities maintains neutral on agilent...  2020-05-22     A"
            ]
          },
          "execution_count": 18,
          "metadata": {},
          "output_type": "execute_result"
        }
      ],
      "source": [
        "data_1.head()"
      ]
    },
    {
      "cell_type": "markdown",
      "metadata": {},
      "source": [
        "### Remove Punctuations"
      ]
    },
    {
      "cell_type": "code",
      "execution_count": 19,
      "metadata": {
        "id": "9jUv6dT5vpIp"
      },
      "outputs": [],
      "source": [
        "import string\n",
        "\n",
        "def remove_punctuation(text):\n",
        "    return ''.join([char for char in text if char not in string.punctuation and not char.isdigit()])\n",
        "\n",
        "data_1['title'] = data_1['title'].apply(remove_punctuation)"
      ]
    },
    {
      "cell_type": "code",
      "execution_count": 20,
      "metadata": {
        "colab": {
          "base_uri": "https://localhost:8080/",
          "height": 206
        },
        "id": "hHyB2atzvvgq",
        "outputId": "9c27a854-4218-4cd1-9f3f-c40293e8d38a"
      },
      "outputs": [
        {
          "data": {
            "text/html": [
              "<div>\n",
              "<style scoped>\n",
              "    .dataframe tbody tr th:only-of-type {\n",
              "        vertical-align: middle;\n",
              "    }\n",
              "\n",
              "    .dataframe tbody tr th {\n",
              "        vertical-align: top;\n",
              "    }\n",
              "\n",
              "    .dataframe thead th {\n",
              "        text-align: right;\n",
              "    }\n",
              "</style>\n",
              "<table border=\"1\" class=\"dataframe\">\n",
              "  <thead>\n",
              "    <tr style=\"text-align: right;\">\n",
              "      <th></th>\n",
              "      <th>title</th>\n",
              "      <th>date</th>\n",
              "      <th>stock</th>\n",
              "    </tr>\n",
              "  </thead>\n",
              "  <tbody>\n",
              "    <tr>\n",
              "      <th>0.0</th>\n",
              "      <td>stocks that hit week highs on friday</td>\n",
              "      <td>2020-06-05</td>\n",
              "      <td>A</td>\n",
              "    </tr>\n",
              "    <tr>\n",
              "      <th>1.0</th>\n",
              "      <td>stocks that hit week highs on wednesday</td>\n",
              "      <td>2020-06-03</td>\n",
              "      <td>A</td>\n",
              "    </tr>\n",
              "    <tr>\n",
              "      <th>2.0</th>\n",
              "      <td>biggest movers from friday</td>\n",
              "      <td>2020-05-26</td>\n",
              "      <td>A</td>\n",
              "    </tr>\n",
              "    <tr>\n",
              "      <th>3.0</th>\n",
              "      <td>stocks moving in fridays midday session</td>\n",
              "      <td>2020-05-22</td>\n",
              "      <td>A</td>\n",
              "    </tr>\n",
              "    <tr>\n",
              "      <th>4.0</th>\n",
              "      <td>b of a securities maintains neutral on agilent...</td>\n",
              "      <td>2020-05-22</td>\n",
              "      <td>A</td>\n",
              "    </tr>\n",
              "  </tbody>\n",
              "</table>\n",
              "</div>"
            ],
            "text/plain": [
              "                                                 title        date stock\n",
              "0.0               stocks that hit week highs on friday  2020-06-05     A\n",
              "1.0            stocks that hit week highs on wednesday  2020-06-03     A\n",
              "2.0                         biggest movers from friday  2020-05-26     A\n",
              "3.0            stocks moving in fridays midday session  2020-05-22     A\n",
              "4.0  b of a securities maintains neutral on agilent...  2020-05-22     A"
            ]
          },
          "execution_count": 20,
          "metadata": {},
          "output_type": "execute_result"
        }
      ],
      "source": [
        "data_1.head()"
      ]
    },
    {
      "cell_type": "code",
      "execution_count": 21,
      "metadata": {
        "colab": {
          "base_uri": "https://localhost:8080/",
          "height": 206
        },
        "id": "GdlIDQsTwJxt",
        "outputId": "3c5dfcd6-b1f5-4462-92e0-24d99fcaf567"
      },
      "outputs": [
        {
          "data": {
            "text/html": [
              "<div>\n",
              "<style scoped>\n",
              "    .dataframe tbody tr th:only-of-type {\n",
              "        vertical-align: middle;\n",
              "    }\n",
              "\n",
              "    .dataframe tbody tr th {\n",
              "        vertical-align: top;\n",
              "    }\n",
              "\n",
              "    .dataframe thead th {\n",
              "        text-align: right;\n",
              "    }\n",
              "</style>\n",
              "<table border=\"1\" class=\"dataframe\">\n",
              "  <thead>\n",
              "    <tr style=\"text-align: right;\">\n",
              "      <th></th>\n",
              "      <th>title</th>\n",
              "      <th>date</th>\n",
              "      <th>stock</th>\n",
              "      <th>tokens</th>\n",
              "    </tr>\n",
              "  </thead>\n",
              "  <tbody>\n",
              "    <tr>\n",
              "      <th>0.0</th>\n",
              "      <td>stocks that hit week highs on friday</td>\n",
              "      <td>2020-06-05</td>\n",
              "      <td>A</td>\n",
              "      <td>[stocks, that, hit, week, highs, on, friday]</td>\n",
              "    </tr>\n",
              "    <tr>\n",
              "      <th>1.0</th>\n",
              "      <td>stocks that hit week highs on wednesday</td>\n",
              "      <td>2020-06-03</td>\n",
              "      <td>A</td>\n",
              "      <td>[stocks, that, hit, week, highs, on, wednesday]</td>\n",
              "    </tr>\n",
              "    <tr>\n",
              "      <th>2.0</th>\n",
              "      <td>biggest movers from friday</td>\n",
              "      <td>2020-05-26</td>\n",
              "      <td>A</td>\n",
              "      <td>[biggest, movers, from, friday]</td>\n",
              "    </tr>\n",
              "    <tr>\n",
              "      <th>3.0</th>\n",
              "      <td>stocks moving in fridays midday session</td>\n",
              "      <td>2020-05-22</td>\n",
              "      <td>A</td>\n",
              "      <td>[stocks, moving, in, fridays, midday, session]</td>\n",
              "    </tr>\n",
              "    <tr>\n",
              "      <th>4.0</th>\n",
              "      <td>b of a securities maintains neutral on agilent...</td>\n",
              "      <td>2020-05-22</td>\n",
              "      <td>A</td>\n",
              "      <td>[b, of, a, securities, maintains, neutral, on,...</td>\n",
              "    </tr>\n",
              "  </tbody>\n",
              "</table>\n",
              "</div>"
            ],
            "text/plain": [
              "                                                 title        date stock  \\\n",
              "0.0               stocks that hit week highs on friday  2020-06-05     A   \n",
              "1.0            stocks that hit week highs on wednesday  2020-06-03     A   \n",
              "2.0                         biggest movers from friday  2020-05-26     A   \n",
              "3.0            stocks moving in fridays midday session  2020-05-22     A   \n",
              "4.0  b of a securities maintains neutral on agilent...  2020-05-22     A   \n",
              "\n",
              "                                                tokens  \n",
              "0.0       [stocks, that, hit, week, highs, on, friday]  \n",
              "1.0    [stocks, that, hit, week, highs, on, wednesday]  \n",
              "2.0                    [biggest, movers, from, friday]  \n",
              "3.0     [stocks, moving, in, fridays, midday, session]  \n",
              "4.0  [b, of, a, securities, maintains, neutral, on,...  "
            ]
          },
          "execution_count": 21,
          "metadata": {},
          "output_type": "execute_result"
        }
      ],
      "source": [
        "data_1['tokens'] = data_1['title'].apply(lambda x: x.split())\n",
        "data_1.head()"
      ]
    },
    {
      "cell_type": "markdown",
      "metadata": {},
      "source": [
        "### Remove stop words"
      ]
    },
    {
      "cell_type": "code",
      "execution_count": 22,
      "metadata": {
        "colab": {
          "base_uri": "https://localhost:8080/"
        },
        "id": "nUEjDSAwwSjK",
        "outputId": "4b5df763-3a4c-42db-ad0a-ff33b2c5c7aa"
      },
      "outputs": [
        {
          "name": "stderr",
          "output_type": "stream",
          "text": [
            "[nltk_data] Downloading package stopwords to\n",
            "[nltk_data]     /Users/weijie/nltk_data...\n",
            "[nltk_data]   Package stopwords is already up-to-date!\n"
          ]
        }
      ],
      "source": [
        "from nltk.corpus import stopwords\n",
        "import nltk\n",
        "nltk.download('stopwords')\n",
        "\n",
        "stop = stopwords.words('english')\n",
        "\n",
        "data_1['tokens'] = data_1['tokens'].apply(lambda x: [word for word in x if word not in stop])"
      ]
    },
    {
      "cell_type": "code",
      "execution_count": 23,
      "metadata": {
        "colab": {
          "base_uri": "https://localhost:8080/",
          "height": 206
        },
        "id": "mkPxf-CgwozT",
        "outputId": "2b6e2cf8-d361-48eb-ae5b-70632f6547dd"
      },
      "outputs": [
        {
          "data": {
            "text/plain": [
              "(212110, 4)"
            ]
          },
          "execution_count": 23,
          "metadata": {},
          "output_type": "execute_result"
        }
      ],
      "source": [
        "data_1.shape"
      ]
    },
    {
      "cell_type": "markdown",
      "metadata": {},
      "source": [
        "### Lemmatize tokens"
      ]
    },
    {
      "cell_type": "code",
      "execution_count": 24,
      "metadata": {
        "colab": {
          "base_uri": "https://localhost:8080/"
        },
        "id": "F7fTt-K3xJvz",
        "outputId": "5c7566e1-e106-4449-ea98-8f15cb9a1c93"
      },
      "outputs": [
        {
          "name": "stderr",
          "output_type": "stream",
          "text": [
            "[nltk_data] Downloading package wordnet to /Users/weijie/nltk_data...\n",
            "[nltk_data]   Package wordnet is already up-to-date!\n"
          ]
        }
      ],
      "source": [
        "from nltk.stem import WordNetLemmatizer\n",
        "import nltk\n",
        "nltk.download('wordnet')\n",
        "\n",
        "lemmatizer = WordNetLemmatizer()\n",
        "\n",
        "data_1['tokens'] = data_1['tokens'].apply(lambda x: [lemmatizer.lemmatize(word) for word in x])\n"
      ]
    },
    {
      "cell_type": "code",
      "execution_count": 25,
      "metadata": {
        "colab": {
          "base_uri": "https://localhost:8080/",
          "height": 206
        },
        "id": "15KCoy4qxkxx",
        "outputId": "dc3de5f1-a6b2-4628-ac4d-a94ac0f98b39"
      },
      "outputs": [
        {
          "data": {
            "text/html": [
              "<div>\n",
              "<style scoped>\n",
              "    .dataframe tbody tr th:only-of-type {\n",
              "        vertical-align: middle;\n",
              "    }\n",
              "\n",
              "    .dataframe tbody tr th {\n",
              "        vertical-align: top;\n",
              "    }\n",
              "\n",
              "    .dataframe thead th {\n",
              "        text-align: right;\n",
              "    }\n",
              "</style>\n",
              "<table border=\"1\" class=\"dataframe\">\n",
              "  <thead>\n",
              "    <tr style=\"text-align: right;\">\n",
              "      <th></th>\n",
              "      <th>title</th>\n",
              "      <th>date</th>\n",
              "      <th>stock</th>\n",
              "      <th>tokens</th>\n",
              "    </tr>\n",
              "  </thead>\n",
              "  <tbody>\n",
              "    <tr>\n",
              "      <th>0.0</th>\n",
              "      <td>stocks that hit week highs on friday</td>\n",
              "      <td>2020-06-05</td>\n",
              "      <td>A</td>\n",
              "      <td>[stock, hit, week, high, friday]</td>\n",
              "    </tr>\n",
              "    <tr>\n",
              "      <th>1.0</th>\n",
              "      <td>stocks that hit week highs on wednesday</td>\n",
              "      <td>2020-06-03</td>\n",
              "      <td>A</td>\n",
              "      <td>[stock, hit, week, high, wednesday]</td>\n",
              "    </tr>\n",
              "    <tr>\n",
              "      <th>2.0</th>\n",
              "      <td>biggest movers from friday</td>\n",
              "      <td>2020-05-26</td>\n",
              "      <td>A</td>\n",
              "      <td>[biggest, mover, friday]</td>\n",
              "    </tr>\n",
              "    <tr>\n",
              "      <th>3.0</th>\n",
              "      <td>stocks moving in fridays midday session</td>\n",
              "      <td>2020-05-22</td>\n",
              "      <td>A</td>\n",
              "      <td>[stock, moving, friday, midday, session]</td>\n",
              "    </tr>\n",
              "    <tr>\n",
              "      <th>4.0</th>\n",
              "      <td>b of a securities maintains neutral on agilent...</td>\n",
              "      <td>2020-05-22</td>\n",
              "      <td>A</td>\n",
              "      <td>[b, security, maintains, neutral, agilent, tec...</td>\n",
              "    </tr>\n",
              "  </tbody>\n",
              "</table>\n",
              "</div>"
            ],
            "text/plain": [
              "                                                 title        date stock  \\\n",
              "0.0               stocks that hit week highs on friday  2020-06-05     A   \n",
              "1.0            stocks that hit week highs on wednesday  2020-06-03     A   \n",
              "2.0                         biggest movers from friday  2020-05-26     A   \n",
              "3.0            stocks moving in fridays midday session  2020-05-22     A   \n",
              "4.0  b of a securities maintains neutral on agilent...  2020-05-22     A   \n",
              "\n",
              "                                                tokens  \n",
              "0.0                   [stock, hit, week, high, friday]  \n",
              "1.0                [stock, hit, week, high, wednesday]  \n",
              "2.0                           [biggest, mover, friday]  \n",
              "3.0           [stock, moving, friday, midday, session]  \n",
              "4.0  [b, security, maintains, neutral, agilent, tec...  "
            ]
          },
          "execution_count": 25,
          "metadata": {},
          "output_type": "execute_result"
        }
      ],
      "source": [
        "data_1.head()"
      ]
    },
    {
      "cell_type": "code",
      "execution_count": 26,
      "metadata": {
        "colab": {
          "base_uri": "https://localhost:8080/",
          "height": 206
        },
        "id": "XUau0f0GxULI",
        "outputId": "2bc02e85-0e41-43ce-bc32-64d619832a29"
      },
      "outputs": [
        {
          "data": {
            "text/html": [
              "<div>\n",
              "<style scoped>\n",
              "    .dataframe tbody tr th:only-of-type {\n",
              "        vertical-align: middle;\n",
              "    }\n",
              "\n",
              "    .dataframe tbody tr th {\n",
              "        vertical-align: top;\n",
              "    }\n",
              "\n",
              "    .dataframe thead th {\n",
              "        text-align: right;\n",
              "    }\n",
              "</style>\n",
              "<table border=\"1\" class=\"dataframe\">\n",
              "  <thead>\n",
              "    <tr style=\"text-align: right;\">\n",
              "      <th></th>\n",
              "      <th>title</th>\n",
              "      <th>date</th>\n",
              "      <th>stock</th>\n",
              "      <th>tokens</th>\n",
              "      <th>preprocessed_text</th>\n",
              "    </tr>\n",
              "  </thead>\n",
              "  <tbody>\n",
              "    <tr>\n",
              "      <th>0.0</th>\n",
              "      <td>stocks that hit week highs on friday</td>\n",
              "      <td>2020-06-05</td>\n",
              "      <td>A</td>\n",
              "      <td>[stock, hit, week, high, friday]</td>\n",
              "      <td>stock hit week high friday</td>\n",
              "    </tr>\n",
              "    <tr>\n",
              "      <th>1.0</th>\n",
              "      <td>stocks that hit week highs on wednesday</td>\n",
              "      <td>2020-06-03</td>\n",
              "      <td>A</td>\n",
              "      <td>[stock, hit, week, high, wednesday]</td>\n",
              "      <td>stock hit week high wednesday</td>\n",
              "    </tr>\n",
              "    <tr>\n",
              "      <th>2.0</th>\n",
              "      <td>biggest movers from friday</td>\n",
              "      <td>2020-05-26</td>\n",
              "      <td>A</td>\n",
              "      <td>[biggest, mover, friday]</td>\n",
              "      <td>biggest mover friday</td>\n",
              "    </tr>\n",
              "    <tr>\n",
              "      <th>3.0</th>\n",
              "      <td>stocks moving in fridays midday session</td>\n",
              "      <td>2020-05-22</td>\n",
              "      <td>A</td>\n",
              "      <td>[stock, moving, friday, midday, session]</td>\n",
              "      <td>stock moving friday midday session</td>\n",
              "    </tr>\n",
              "    <tr>\n",
              "      <th>4.0</th>\n",
              "      <td>b of a securities maintains neutral on agilent...</td>\n",
              "      <td>2020-05-22</td>\n",
              "      <td>A</td>\n",
              "      <td>[b, security, maintains, neutral, agilent, tec...</td>\n",
              "      <td>b security maintains neutral agilent technolog...</td>\n",
              "    </tr>\n",
              "  </tbody>\n",
              "</table>\n",
              "</div>"
            ],
            "text/plain": [
              "                                                 title        date stock  \\\n",
              "0.0               stocks that hit week highs on friday  2020-06-05     A   \n",
              "1.0            stocks that hit week highs on wednesday  2020-06-03     A   \n",
              "2.0                         biggest movers from friday  2020-05-26     A   \n",
              "3.0            stocks moving in fridays midday session  2020-05-22     A   \n",
              "4.0  b of a securities maintains neutral on agilent...  2020-05-22     A   \n",
              "\n",
              "                                                tokens  \\\n",
              "0.0                   [stock, hit, week, high, friday]   \n",
              "1.0                [stock, hit, week, high, wednesday]   \n",
              "2.0                           [biggest, mover, friday]   \n",
              "3.0           [stock, moving, friday, midday, session]   \n",
              "4.0  [b, security, maintains, neutral, agilent, tec...   \n",
              "\n",
              "                                     preprocessed_text  \n",
              "0.0                         stock hit week high friday  \n",
              "1.0                      stock hit week high wednesday  \n",
              "2.0                               biggest mover friday  \n",
              "3.0                 stock moving friday midday session  \n",
              "4.0  b security maintains neutral agilent technolog...  "
            ]
          },
          "execution_count": 26,
          "metadata": {},
          "output_type": "execute_result"
        }
      ],
      "source": [
        "data_1['preprocessed_text'] = data_1['tokens'].apply(' '.join)\n",
        "data_1.head()"
      ]
    },
    {
      "cell_type": "code",
      "execution_count": 27,
      "metadata": {
        "colab": {
          "base_uri": "https://localhost:8080/"
        },
        "id": "YDMEu5K2x4L6",
        "outputId": "20fc393c-bef0-41bf-ce79-d63044de3c74"
      },
      "outputs": [
        {
          "name": "stderr",
          "output_type": "stream",
          "text": [
            "[nltk_data] Downloading package vader_lexicon to\n",
            "[nltk_data]     /Users/weijie/nltk_data...\n",
            "[nltk_data]   Package vader_lexicon is already up-to-date!\n"
          ]
        }
      ],
      "source": [
        "import nltk\n",
        "from nltk.sentiment.vader import SentimentIntensityAnalyzer\n",
        "nltk.download('vader_lexicon')\n",
        "sia = SentimentIntensityAnalyzer()\n",
        "# NLTK Sentiment Intensity Analyzer uses a 'Bag of Words' approach\n",
        "# it removes stop words and scores each word individually before compounding"
      ]
    },
    {
      "cell_type": "code",
      "execution_count": 28,
      "metadata": {},
      "outputs": [
        {
          "data": {
            "text/html": [
              "<div>\n",
              "<style scoped>\n",
              "    .dataframe tbody tr th:only-of-type {\n",
              "        vertical-align: middle;\n",
              "    }\n",
              "\n",
              "    .dataframe tbody tr th {\n",
              "        vertical-align: top;\n",
              "    }\n",
              "\n",
              "    .dataframe thead th {\n",
              "        text-align: right;\n",
              "    }\n",
              "</style>\n",
              "<table border=\"1\" class=\"dataframe\">\n",
              "  <thead>\n",
              "    <tr style=\"text-align: right;\">\n",
              "      <th></th>\n",
              "      <th>title</th>\n",
              "      <th>date</th>\n",
              "      <th>stock</th>\n",
              "      <th>tokens</th>\n",
              "      <th>preprocessed_text</th>\n",
              "      <th>sentiment_score</th>\n",
              "    </tr>\n",
              "  </thead>\n",
              "  <tbody>\n",
              "    <tr>\n",
              "      <th>0.0</th>\n",
              "      <td>stocks that hit week highs on friday</td>\n",
              "      <td>2020-06-05</td>\n",
              "      <td>A</td>\n",
              "      <td>[stock, hit, week, high, friday]</td>\n",
              "      <td>stock hit week high friday</td>\n",
              "      <td>0.0000</td>\n",
              "    </tr>\n",
              "    <tr>\n",
              "      <th>1.0</th>\n",
              "      <td>stocks that hit week highs on wednesday</td>\n",
              "      <td>2020-06-03</td>\n",
              "      <td>A</td>\n",
              "      <td>[stock, hit, week, high, wednesday]</td>\n",
              "      <td>stock hit week high wednesday</td>\n",
              "      <td>0.0000</td>\n",
              "    </tr>\n",
              "    <tr>\n",
              "      <th>2.0</th>\n",
              "      <td>biggest movers from friday</td>\n",
              "      <td>2020-05-26</td>\n",
              "      <td>A</td>\n",
              "      <td>[biggest, mover, friday]</td>\n",
              "      <td>biggest mover friday</td>\n",
              "      <td>0.0000</td>\n",
              "    </tr>\n",
              "    <tr>\n",
              "      <th>3.0</th>\n",
              "      <td>stocks moving in fridays midday session</td>\n",
              "      <td>2020-05-22</td>\n",
              "      <td>A</td>\n",
              "      <td>[stock, moving, friday, midday, session]</td>\n",
              "      <td>stock moving friday midday session</td>\n",
              "      <td>0.0000</td>\n",
              "    </tr>\n",
              "    <tr>\n",
              "      <th>4.0</th>\n",
              "      <td>b of a securities maintains neutral on agilent...</td>\n",
              "      <td>2020-05-22</td>\n",
              "      <td>A</td>\n",
              "      <td>[b, security, maintains, neutral, agilent, tec...</td>\n",
              "      <td>b security maintains neutral agilent technolog...</td>\n",
              "      <td>0.3400</td>\n",
              "    </tr>\n",
              "    <tr>\n",
              "      <th>...</th>\n",
              "      <td>...</td>\n",
              "      <td>...</td>\n",
              "      <td>...</td>\n",
              "      <td>...</td>\n",
              "      <td>...</td>\n",
              "      <td>...</td>\n",
              "    </tr>\n",
              "    <tr>\n",
              "      <th>1411294.0</th>\n",
              "      <td>is zyngas prethanksgiving ipo a turkey</td>\n",
              "      <td>2011-11-06</td>\n",
              "      <td>ZNGA</td>\n",
              "      <td>[zyngas, prethanksgiving, ipo, turkey]</td>\n",
              "      <td>zyngas prethanksgiving ipo turkey</td>\n",
              "      <td>0.0000</td>\n",
              "    </tr>\n",
              "    <tr>\n",
              "      <th>1411295.0</th>\n",
              "      <td>zynga files new s stament for ipo cash on hand...</td>\n",
              "      <td>2011-11-04</td>\n",
              "      <td>ZNGA</td>\n",
              "      <td>[zynga, file, new, stament, ipo, cash, hand, s...</td>\n",
              "      <td>zynga file new stament ipo cash hand slightly ...</td>\n",
              "      <td>0.4939</td>\n",
              "    </tr>\n",
              "    <tr>\n",
              "      <th>1411296.0</th>\n",
              "      <td>zynga ipo to debut week before thanksgiving ac...</td>\n",
              "      <td>2011-10-24</td>\n",
              "      <td>ZNGA</td>\n",
              "      <td>[zynga, ipo, debut, week, thanksgiving, accord...</td>\n",
              "      <td>zynga ipo debut week thanksgiving according so...</td>\n",
              "      <td>0.0000</td>\n",
              "    </tr>\n",
              "    <tr>\n",
              "      <th>1411297.0</th>\n",
              "      <td>ipo filing zynga amends s filing</td>\n",
              "      <td>2011-10-14</td>\n",
              "      <td>ZNGA</td>\n",
              "      <td>[ipo, filing, zynga, amends, filing]</td>\n",
              "      <td>ipo filing zynga amends filing</td>\n",
              "      <td>0.0000</td>\n",
              "    </tr>\n",
              "    <tr>\n",
              "      <th>1411298.0</th>\n",
              "      <td>zynga to trade on nasdaq under symbol znga filing</td>\n",
              "      <td>2011-10-13</td>\n",
              "      <td>ZNGA</td>\n",
              "      <td>[zynga, trade, nasdaq, symbol, znga, filing]</td>\n",
              "      <td>zynga trade nasdaq symbol znga filing</td>\n",
              "      <td>0.0000</td>\n",
              "    </tr>\n",
              "  </tbody>\n",
              "</table>\n",
              "<p>212110 rows × 6 columns</p>\n",
              "</div>"
            ],
            "text/plain": [
              "                                                       title        date  \\\n",
              "0.0                     stocks that hit week highs on friday  2020-06-05   \n",
              "1.0                  stocks that hit week highs on wednesday  2020-06-03   \n",
              "2.0                               biggest movers from friday  2020-05-26   \n",
              "3.0                  stocks moving in fridays midday session  2020-05-22   \n",
              "4.0        b of a securities maintains neutral on agilent...  2020-05-22   \n",
              "...                                                      ...         ...   \n",
              "1411294.0             is zyngas prethanksgiving ipo a turkey  2011-11-06   \n",
              "1411295.0  zynga files new s stament for ipo cash on hand...  2011-11-04   \n",
              "1411296.0  zynga ipo to debut week before thanksgiving ac...  2011-10-24   \n",
              "1411297.0                   ipo filing zynga amends s filing  2011-10-14   \n",
              "1411298.0  zynga to trade on nasdaq under symbol znga filing  2011-10-13   \n",
              "\n",
              "          stock                                             tokens  \\\n",
              "0.0           A                   [stock, hit, week, high, friday]   \n",
              "1.0           A                [stock, hit, week, high, wednesday]   \n",
              "2.0           A                           [biggest, mover, friday]   \n",
              "3.0           A           [stock, moving, friday, midday, session]   \n",
              "4.0           A  [b, security, maintains, neutral, agilent, tec...   \n",
              "...         ...                                                ...   \n",
              "1411294.0  ZNGA             [zyngas, prethanksgiving, ipo, turkey]   \n",
              "1411295.0  ZNGA  [zynga, file, new, stament, ipo, cash, hand, s...   \n",
              "1411296.0  ZNGA  [zynga, ipo, debut, week, thanksgiving, accord...   \n",
              "1411297.0  ZNGA               [ipo, filing, zynga, amends, filing]   \n",
              "1411298.0  ZNGA       [zynga, trade, nasdaq, symbol, znga, filing]   \n",
              "\n",
              "                                           preprocessed_text  sentiment_score  \n",
              "0.0                               stock hit week high friday           0.0000  \n",
              "1.0                            stock hit week high wednesday           0.0000  \n",
              "2.0                                     biggest mover friday           0.0000  \n",
              "3.0                       stock moving friday midday session           0.0000  \n",
              "4.0        b security maintains neutral agilent technolog...           0.3400  \n",
              "...                                                      ...              ...  \n",
              "1411294.0                  zyngas prethanksgiving ipo turkey           0.0000  \n",
              "1411295.0  zynga file new stament ipo cash hand slightly ...           0.4939  \n",
              "1411296.0  zynga ipo debut week thanksgiving according so...           0.0000  \n",
              "1411297.0                     ipo filing zynga amends filing           0.0000  \n",
              "1411298.0              zynga trade nasdaq symbol znga filing           0.0000  \n",
              "\n",
              "[212110 rows x 6 columns]"
            ]
          },
          "execution_count": 28,
          "metadata": {},
          "output_type": "execute_result"
        }
      ],
      "source": [
        "data_duplicate = data_1.copy()\n",
        "data_duplicate['sentiment_score'] = data_duplicate['preprocessed_text'].apply(lambda x: sia.polarity_scores(x)['compound'])\n",
        "data_duplicate"
      ]
    },
    {
      "cell_type": "code",
      "execution_count": 29,
      "metadata": {
        "colab": {
          "base_uri": "https://localhost:8080/"
        },
        "id": "X0nlV-P20K_8",
        "outputId": "2c43f90d-c726-46e3-c5d3-999274766fdf"
      },
      "outputs": [
        {
          "data": {
            "text/plain": [
              "count    212110.000000\n",
              "mean          0.072493\n",
              "std           0.291640\n",
              "min          -0.957800\n",
              "25%           0.000000\n",
              "50%           0.000000\n",
              "75%           0.273200\n",
              "max           0.974400\n",
              "Name: sentiment_score, dtype: float64"
            ]
          },
          "execution_count": 29,
          "metadata": {},
          "output_type": "execute_result"
        }
      ],
      "source": [
        "data_duplicate['sentiment_score'].describe()"
      ]
    },
    {
      "cell_type": "code",
      "execution_count": 30,
      "metadata": {
        "colab": {
          "base_uri": "https://localhost:8080/"
        },
        "id": "RGBvIQCZ2Ew6",
        "outputId": "ce24972b-4612-4b4d-86f8-32e1d288a9c0"
      },
      "outputs": [
        {
          "name": "stdout",
          "output_type": "stream",
          "text": [
            "<class 'pandas.core.frame.DataFrame'>\n",
            "Index: 212110 entries, 0.0 to 1411298.0\n",
            "Data columns (total 6 columns):\n",
            " #   Column             Non-Null Count   Dtype  \n",
            "---  ------             --------------   -----  \n",
            " 0   title              212110 non-null  object \n",
            " 1   date               212110 non-null  object \n",
            " 2   stock              212110 non-null  object \n",
            " 3   tokens             212110 non-null  object \n",
            " 4   preprocessed_text  212110 non-null  object \n",
            " 5   sentiment_score    212110 non-null  float64\n",
            "dtypes: float64(1), object(5)\n",
            "memory usage: 11.3+ MB\n"
          ]
        }
      ],
      "source": [
        "data_duplicate.info()"
      ]
    },
    {
      "cell_type": "code",
      "execution_count": 31,
      "metadata": {},
      "outputs": [
        {
          "data": {
            "text/html": [
              "<div>\n",
              "<style scoped>\n",
              "    .dataframe tbody tr th:only-of-type {\n",
              "        vertical-align: middle;\n",
              "    }\n",
              "\n",
              "    .dataframe tbody tr th {\n",
              "        vertical-align: top;\n",
              "    }\n",
              "\n",
              "    .dataframe thead th {\n",
              "        text-align: right;\n",
              "    }\n",
              "</style>\n",
              "<table border=\"1\" class=\"dataframe\">\n",
              "  <thead>\n",
              "    <tr style=\"text-align: right;\">\n",
              "      <th></th>\n",
              "      <th>title</th>\n",
              "      <th>date</th>\n",
              "      <th>stock</th>\n",
              "      <th>tokens</th>\n",
              "      <th>preprocessed_text</th>\n",
              "      <th>sentiment_score</th>\n",
              "    </tr>\n",
              "  </thead>\n",
              "  <tbody>\n",
              "    <tr>\n",
              "      <th>0.0</th>\n",
              "      <td>stocks that hit week highs on friday</td>\n",
              "      <td>2020-06-05</td>\n",
              "      <td>A</td>\n",
              "      <td>[stock, hit, week, high, friday]</td>\n",
              "      <td>stock hit week high friday</td>\n",
              "      <td>0.00</td>\n",
              "    </tr>\n",
              "    <tr>\n",
              "      <th>1.0</th>\n",
              "      <td>stocks that hit week highs on wednesday</td>\n",
              "      <td>2020-06-03</td>\n",
              "      <td>A</td>\n",
              "      <td>[stock, hit, week, high, wednesday]</td>\n",
              "      <td>stock hit week high wednesday</td>\n",
              "      <td>0.00</td>\n",
              "    </tr>\n",
              "    <tr>\n",
              "      <th>2.0</th>\n",
              "      <td>biggest movers from friday</td>\n",
              "      <td>2020-05-26</td>\n",
              "      <td>A</td>\n",
              "      <td>[biggest, mover, friday]</td>\n",
              "      <td>biggest mover friday</td>\n",
              "      <td>0.00</td>\n",
              "    </tr>\n",
              "    <tr>\n",
              "      <th>3.0</th>\n",
              "      <td>stocks moving in fridays midday session</td>\n",
              "      <td>2020-05-22</td>\n",
              "      <td>A</td>\n",
              "      <td>[stock, moving, friday, midday, session]</td>\n",
              "      <td>stock moving friday midday session</td>\n",
              "      <td>0.00</td>\n",
              "    </tr>\n",
              "    <tr>\n",
              "      <th>4.0</th>\n",
              "      <td>b of a securities maintains neutral on agilent...</td>\n",
              "      <td>2020-05-22</td>\n",
              "      <td>A</td>\n",
              "      <td>[b, security, maintains, neutral, agilent, tec...</td>\n",
              "      <td>b security maintains neutral agilent technolog...</td>\n",
              "      <td>0.34</td>\n",
              "    </tr>\n",
              "  </tbody>\n",
              "</table>\n",
              "</div>"
            ],
            "text/plain": [
              "                                                 title        date stock  \\\n",
              "0.0               stocks that hit week highs on friday  2020-06-05     A   \n",
              "1.0            stocks that hit week highs on wednesday  2020-06-03     A   \n",
              "2.0                         biggest movers from friday  2020-05-26     A   \n",
              "3.0            stocks moving in fridays midday session  2020-05-22     A   \n",
              "4.0  b of a securities maintains neutral on agilent...  2020-05-22     A   \n",
              "\n",
              "                                                tokens  \\\n",
              "0.0                   [stock, hit, week, high, friday]   \n",
              "1.0                [stock, hit, week, high, wednesday]   \n",
              "2.0                           [biggest, mover, friday]   \n",
              "3.0           [stock, moving, friday, midday, session]   \n",
              "4.0  [b, security, maintains, neutral, agilent, tec...   \n",
              "\n",
              "                                     preprocessed_text  sentiment_score  \n",
              "0.0                         stock hit week high friday             0.00  \n",
              "1.0                      stock hit week high wednesday             0.00  \n",
              "2.0                               biggest mover friday             0.00  \n",
              "3.0                 stock moving friday midday session             0.00  \n",
              "4.0  b security maintains neutral agilent technolog...             0.34  "
            ]
          },
          "execution_count": 31,
          "metadata": {},
          "output_type": "execute_result"
        }
      ],
      "source": [
        "data_duplicate.head()"
      ]
    },
    {
      "cell_type": "code",
      "execution_count": 86,
      "metadata": {},
      "outputs": [],
      "source": [
        "signals_df = data_duplicate[['date', 'stock', 'sentiment_score']].copy()"
      ]
    },
    {
      "cell_type": "markdown",
      "metadata": {},
      "source": [
        "# Pull yfinance data"
      ]
    },
    {
      "cell_type": "code",
      "execution_count": 33,
      "metadata": {},
      "outputs": [],
      "source": [
        "tickers = data_duplicate.stock.unique()"
      ]
    },
    {
      "cell_type": "code",
      "execution_count": 34,
      "metadata": {},
      "outputs": [],
      "source": [
        "start_date, end_date = data_duplicate.date.sort_values().iloc[0], data_duplicate.date.sort_values().iloc[-1]"
      ]
    },
    {
      "cell_type": "code",
      "execution_count": 35,
      "metadata": {},
      "outputs": [
        {
          "name": "stdout",
          "output_type": "stream",
          "text": [
            "[*********************100%%**********************]  100 of 100 completed"
          ]
        },
        {
          "name": "stderr",
          "output_type": "stream",
          "text": [
            "\n",
            "13 Failed downloads:\n",
            "['CHK', 'SHLD']: Exception(\"%ticker%: Data doesn't exist for startDate = 1240977600, endDate = 1591848000\")\n",
            "['BBBY', 'JCP', 'APC', 'MYL', 'ZNGA', 'AGN', 'MON']: Exception('%ticker%: No timezone found, symbol may be delisted')\n",
            "['BBRY', 'PCLN', 'GMCR', 'LNKD']: Exception('%ticker%: No price data found, symbol may be delisted (1d 2009-04-29 -> 2020-06-11)')\n"
          ]
        },
        {
          "name": "stdout",
          "output_type": "stream",
          "text": [
            "\n"
          ]
        }
      ],
      "source": [
        "data = yf.download(list(tickers), start=start_date, end=end_date)"
      ]
    },
    {
      "cell_type": "code",
      "execution_count": 87,
      "metadata": {},
      "outputs": [],
      "source": [
        "adj_close_data = data['Adj Close']"
      ]
    },
    {
      "cell_type": "code",
      "execution_count": 88,
      "metadata": {},
      "outputs": [],
      "source": [
        "# Tickers that don't have data\n",
        "missing_data_tickers = adj_close_data.columns[adj_close_data.isna().sum()/adj_close_data.shape[0] == 1]\n",
        "\n",
        "# Drop missing tickers\n",
        "adj_close_data = adj_close_data.drop(columns=missing_data_tickers)"
      ]
    },
    {
      "cell_type": "code",
      "execution_count": 89,
      "metadata": {},
      "outputs": [],
      "source": [
        "# Drop other tickers\n",
        "adj_close_data = adj_close_data.dropna(axis=1)"
      ]
    },
    {
      "cell_type": "code",
      "execution_count": 90,
      "metadata": {},
      "outputs": [
        {
          "data": {
            "text/plain": [
              "False"
            ]
          },
          "execution_count": 90,
          "metadata": {},
          "output_type": "execute_result"
        }
      ],
      "source": [
        "any(adj_close_data.isna().sum() > 0)"
      ]
    },
    {
      "cell_type": "code",
      "execution_count": 91,
      "metadata": {},
      "outputs": [],
      "source": [
        "returns_df = adj_close_data.pct_change().dropna().reset_index().rename(columns={'Date': 'date'})"
      ]
    },
    {
      "cell_type": "code",
      "execution_count": 92,
      "metadata": {},
      "outputs": [
        {
          "data": {
            "text/html": [
              "<div>\n",
              "<style scoped>\n",
              "    .dataframe tbody tr th:only-of-type {\n",
              "        vertical-align: middle;\n",
              "    }\n",
              "\n",
              "    .dataframe tbody tr th {\n",
              "        vertical-align: top;\n",
              "    }\n",
              "\n",
              "    .dataframe thead th {\n",
              "        text-align: right;\n",
              "    }\n",
              "</style>\n",
              "<table border=\"1\" class=\"dataframe\">\n",
              "  <thead>\n",
              "    <tr style=\"text-align: right;\">\n",
              "      <th></th>\n",
              "      <th>date</th>\n",
              "      <th>stock</th>\n",
              "      <th>daily_returns</th>\n",
              "    </tr>\n",
              "  </thead>\n",
              "  <tbody>\n",
              "    <tr>\n",
              "      <th>0</th>\n",
              "      <td>2009-04-30</td>\n",
              "      <td>A</td>\n",
              "      <td>0.012756</td>\n",
              "    </tr>\n",
              "    <tr>\n",
              "      <th>1</th>\n",
              "      <td>2009-05-01</td>\n",
              "      <td>A</td>\n",
              "      <td>0.030121</td>\n",
              "    </tr>\n",
              "    <tr>\n",
              "      <th>2</th>\n",
              "      <td>2009-05-04</td>\n",
              "      <td>A</td>\n",
              "      <td>0.032429</td>\n",
              "    </tr>\n",
              "    <tr>\n",
              "      <th>3</th>\n",
              "      <td>2009-05-05</td>\n",
              "      <td>A</td>\n",
              "      <td>-0.035530</td>\n",
              "    </tr>\n",
              "    <tr>\n",
              "      <th>4</th>\n",
              "      <td>2009-05-06</td>\n",
              "      <td>A</td>\n",
              "      <td>0.026695</td>\n",
              "    </tr>\n",
              "  </tbody>\n",
              "</table>\n",
              "</div>"
            ],
            "text/plain": [
              "        date stock  daily_returns\n",
              "0 2009-04-30     A       0.012756\n",
              "1 2009-05-01     A       0.030121\n",
              "2 2009-05-04     A       0.032429\n",
              "3 2009-05-05     A      -0.035530\n",
              "4 2009-05-06     A       0.026695"
            ]
          },
          "execution_count": 92,
          "metadata": {},
          "output_type": "execute_result"
        }
      ],
      "source": [
        "returns_df_melt = returns_df.melt(id_vars='date', var_name='stock', value_name='daily_returns')\n",
        "returns_df_melt['date'] = pd.to_datetime(returns_df_melt['date'])\n",
        "returns_df_melt.head()"
      ]
    },
    {
      "cell_type": "code",
      "execution_count": 93,
      "metadata": {},
      "outputs": [
        {
          "data": {
            "text/html": [
              "<div>\n",
              "<style scoped>\n",
              "    .dataframe tbody tr th:only-of-type {\n",
              "        vertical-align: middle;\n",
              "    }\n",
              "\n",
              "    .dataframe tbody tr th {\n",
              "        vertical-align: top;\n",
              "    }\n",
              "\n",
              "    .dataframe thead th {\n",
              "        text-align: right;\n",
              "    }\n",
              "</style>\n",
              "<table border=\"1\" class=\"dataframe\">\n",
              "  <thead>\n",
              "    <tr style=\"text-align: right;\">\n",
              "      <th></th>\n",
              "      <th>date</th>\n",
              "      <th>stock</th>\n",
              "      <th>sentiment_score</th>\n",
              "    </tr>\n",
              "  </thead>\n",
              "  <tbody>\n",
              "    <tr>\n",
              "      <th>1834.0</th>\n",
              "      <td>2009-04-29</td>\n",
              "      <td>A</td>\n",
              "      <td>0.0000</td>\n",
              "    </tr>\n",
              "    <tr>\n",
              "      <th>561526.0</th>\n",
              "      <td>2009-05-27</td>\n",
              "      <td>GMCR</td>\n",
              "      <td>0.7096</td>\n",
              "    </tr>\n",
              "    <tr>\n",
              "      <th>1833.0</th>\n",
              "      <td>2009-06-01</td>\n",
              "      <td>A</td>\n",
              "      <td>0.2960</td>\n",
              "    </tr>\n",
              "    <tr>\n",
              "      <th>794150.0</th>\n",
              "      <td>2009-06-16</td>\n",
              "      <td>M</td>\n",
              "      <td>0.8481</td>\n",
              "    </tr>\n",
              "    <tr>\n",
              "      <th>737639.0</th>\n",
              "      <td>2009-06-22</td>\n",
              "      <td>KO</td>\n",
              "      <td>0.8555</td>\n",
              "    </tr>\n",
              "  </tbody>\n",
              "</table>\n",
              "</div>"
            ],
            "text/plain": [
              "                date stock  sentiment_score\n",
              "1834.0    2009-04-29     A           0.0000\n",
              "561526.0  2009-05-27  GMCR           0.7096\n",
              "1833.0    2009-06-01     A           0.2960\n",
              "794150.0  2009-06-16     M           0.8481\n",
              "737639.0  2009-06-22    KO           0.8555"
            ]
          },
          "execution_count": 93,
          "metadata": {},
          "output_type": "execute_result"
        }
      ],
      "source": [
        "signals_df.sort_values('date').head()"
      ]
    },
    {
      "cell_type": "code",
      "execution_count": 94,
      "metadata": {},
      "outputs": [
        {
          "data": {
            "text/plain": [
              "date             datetime64[ns]\n",
              "stock                    object\n",
              "daily_returns           float64\n",
              "dtype: object"
            ]
          },
          "execution_count": 94,
          "metadata": {},
          "output_type": "execute_result"
        }
      ],
      "source": [
        "returns_df_melt.dtypes"
      ]
    },
    {
      "cell_type": "code",
      "execution_count": 95,
      "metadata": {},
      "outputs": [],
      "source": [
        "signals_df['date'] = pd.to_datetime(signals_df['date'])"
      ]
    },
    {
      "cell_type": "code",
      "execution_count": 98,
      "metadata": {},
      "outputs": [],
      "source": [
        "ml_df = pd.merge(returns_df_melt, signals_df, on=['date', 'stock'], how='left').dropna()"
      ]
    },
    {
      "cell_type": "markdown",
      "metadata": {},
      "source": [
        "# Build Machine Learning Models"
      ]
    },
    {
      "cell_type": "code",
      "execution_count": 99,
      "metadata": {},
      "outputs": [
        {
          "data": {
            "text/html": [
              "<div>\n",
              "<style scoped>\n",
              "    .dataframe tbody tr th:only-of-type {\n",
              "        vertical-align: middle;\n",
              "    }\n",
              "\n",
              "    .dataframe tbody tr th {\n",
              "        vertical-align: top;\n",
              "    }\n",
              "\n",
              "    .dataframe thead th {\n",
              "        text-align: right;\n",
              "    }\n",
              "</style>\n",
              "<table border=\"1\" class=\"dataframe\">\n",
              "  <thead>\n",
              "    <tr style=\"text-align: right;\">\n",
              "      <th></th>\n",
              "      <th>date</th>\n",
              "      <th>stock</th>\n",
              "      <th>daily_returns</th>\n",
              "      <th>sentiment_score</th>\n",
              "    </tr>\n",
              "  </thead>\n",
              "  <tbody>\n",
              "    <tr>\n",
              "      <th>21</th>\n",
              "      <td>2009-06-01</td>\n",
              "      <td>A</td>\n",
              "      <td>0.035655</td>\n",
              "      <td>0.2960</td>\n",
              "    </tr>\n",
              "    <tr>\n",
              "      <th>51</th>\n",
              "      <td>2009-07-14</td>\n",
              "      <td>A</td>\n",
              "      <td>0.005157</td>\n",
              "      <td>0.3818</td>\n",
              "    </tr>\n",
              "    <tr>\n",
              "      <th>63</th>\n",
              "      <td>2009-07-30</td>\n",
              "      <td>A</td>\n",
              "      <td>0.023421</td>\n",
              "      <td>0.0000</td>\n",
              "    </tr>\n",
              "    <tr>\n",
              "      <th>66</th>\n",
              "      <td>2009-08-04</td>\n",
              "      <td>A</td>\n",
              "      <td>0.009186</td>\n",
              "      <td>0.0000</td>\n",
              "    </tr>\n",
              "    <tr>\n",
              "      <th>68</th>\n",
              "      <td>2009-08-06</td>\n",
              "      <td>A</td>\n",
              "      <td>-0.011049</td>\n",
              "      <td>0.0000</td>\n",
              "    </tr>\n",
              "    <tr>\n",
              "      <th>...</th>\n",
              "      <td>...</td>\n",
              "      <td>...</td>\n",
              "      <td>...</td>\n",
              "      <td>...</td>\n",
              "    </tr>\n",
              "    <tr>\n",
              "      <th>303402</th>\n",
              "      <td>2020-05-29</td>\n",
              "      <td>YUM</td>\n",
              "      <td>-0.012328</td>\n",
              "      <td>0.2960</td>\n",
              "    </tr>\n",
              "    <tr>\n",
              "      <th>303405</th>\n",
              "      <td>2020-06-03</td>\n",
              "      <td>YUM</td>\n",
              "      <td>0.025485</td>\n",
              "      <td>0.6908</td>\n",
              "    </tr>\n",
              "    <tr>\n",
              "      <th>303408</th>\n",
              "      <td>2020-06-08</td>\n",
              "      <td>YUM</td>\n",
              "      <td>-0.005491</td>\n",
              "      <td>0.0000</td>\n",
              "    </tr>\n",
              "    <tr>\n",
              "      <th>303410</th>\n",
              "      <td>2020-06-10</td>\n",
              "      <td>YUM</td>\n",
              "      <td>-0.015383</td>\n",
              "      <td>0.0000</td>\n",
              "    </tr>\n",
              "    <tr>\n",
              "      <th>303411</th>\n",
              "      <td>2020-06-10</td>\n",
              "      <td>YUM</td>\n",
              "      <td>-0.015383</td>\n",
              "      <td>0.0000</td>\n",
              "    </tr>\n",
              "  </tbody>\n",
              "</table>\n",
              "<p>159705 rows × 4 columns</p>\n",
              "</div>"
            ],
            "text/plain": [
              "             date stock  daily_returns  sentiment_score\n",
              "21     2009-06-01     A       0.035655           0.2960\n",
              "51     2009-07-14     A       0.005157           0.3818\n",
              "63     2009-07-30     A       0.023421           0.0000\n",
              "66     2009-08-04     A       0.009186           0.0000\n",
              "68     2009-08-06     A      -0.011049           0.0000\n",
              "...           ...   ...            ...              ...\n",
              "303402 2020-05-29   YUM      -0.012328           0.2960\n",
              "303405 2020-06-03   YUM       0.025485           0.6908\n",
              "303408 2020-06-08   YUM      -0.005491           0.0000\n",
              "303410 2020-06-10   YUM      -0.015383           0.0000\n",
              "303411 2020-06-10   YUM      -0.015383           0.0000\n",
              "\n",
              "[159705 rows x 4 columns]"
            ]
          },
          "execution_count": 99,
          "metadata": {},
          "output_type": "execute_result"
        }
      ],
      "source": [
        "ml_df"
      ]
    }
  ],
  "metadata": {
    "colab": {
      "provenance": []
    },
    "kernelspec": {
      "display_name": "Python 3",
      "name": "python3"
    },
    "language_info": {
      "codemirror_mode": {
        "name": "ipython",
        "version": 3
      },
      "file_extension": ".py",
      "mimetype": "text/x-python",
      "name": "python",
      "nbconvert_exporter": "python",
      "pygments_lexer": "ipython3",
      "version": "3.8.8"
    }
  },
  "nbformat": 4,
  "nbformat_minor": 0
}
